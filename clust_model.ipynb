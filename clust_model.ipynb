{
 "cells": [
  {
   "cell_type": "code",
   "execution_count": 1,
   "metadata": {},
   "outputs": [],
   "source": [
    "#Imports\n",
    "\n",
    "#Data\n",
    "import pandas as pd\n",
    "import numpy as np\n",
    "\n",
    "#Date\n",
    "import datetime as dt\n",
    "from datetime import datetime\n",
    "\n",
    "#Visualisation\n",
    "import matplotlib as mpl\n",
    "import matplotlib.pyplot as plt\n",
    "import seaborn as sns\n",
    "\n",
    "#ML\n",
    "from imblearn.under_sampling import RandomUnderSampler\n",
    "\n",
    "from sklearn.model_selection import train_test_split\n",
    "from sklearn.preprocessing import StandardScaler, MinMaxScaler\n",
    "\n",
    "\n",
    "\n",
    "from sklearn.neighbors import KNeighborsClassifier\n",
    "\n",
    "from sklearn import datasets\n",
    "from sklearn.metrics import confusion_matrix,classification_report\n",
    "\n",
    "from sklearn.preprocessing import OneHotEncoder\n",
    "\n",
    "data_file='wrang_xyz_data.csv'\n",
    "\n",
    "financial_data=['total_rev_hi_lim','tot_cur_bal','tot_coll_amt','revol_util','loan_amnt','dti','revol_bal']\n",
    "loan_data=['purpose','initial_list_status','term']\n",
    "emp_data=['emp_length','collections_12_mths_ex_med','acc_now_delinq','home_ownership','annual_inc','verification_status','zip_code','addr_state','delinq_2yrs','inq_last_6mths','open_acc','pub_rec','total_acc']\n",
    "date_data=['earliest_cr_line']\n",
    "\n",
    "\n",
    "#out=['last_pymnt_d','last_credit_pull_d','initial_list_status','recoveries','collection_recovery_fee','last_pymnt_amnt','total_pymnt','total_rec_int','int_rate','out_prncp',''total_rec_late_fee','default_ind']\n",
    "\n",
    "features=financial_data+loan_data+emp_data+date_data\n",
    "pred_data=['issue_d','grade','sub_grade']"
   ]
  },
  {
   "cell_type": "code",
   "execution_count": 3,
   "metadata": {},
   "outputs": [
    {
     "name": "stdout",
     "output_type": "stream",
     "text": [
      "[[20970 12196  2722   412    44     4     0]\n",
      " [15105 29877 13859  2658   498    48     0]\n",
      " [ 6787 22436 21341  6456  1917   237    19]\n",
      " [ 2138  9616 12946  6016  2251   347    28]\n",
      " [  480  3133  6352  3984  2179   460    36]\n",
      " [   77   611  1760  1506   957   273    34]\n",
      " [    9   112   372   329   267   115    14]]\n",
      "              precision    recall  f1-score   support\n",
      "\n",
      "           0       0.46      0.58      0.51     36348\n",
      "           1       0.38      0.48      0.43     62045\n",
      "           2       0.36      0.36      0.36     59193\n",
      "           3       0.28      0.18      0.22     33342\n",
      "           4       0.27      0.13      0.18     16624\n",
      "           5       0.18      0.05      0.08      5218\n",
      "           6       0.11      0.01      0.02      1218\n",
      "\n",
      "    accuracy                           0.38    213988\n",
      "   macro avg       0.29      0.26      0.26    213988\n",
      "weighted avg       0.36      0.38      0.36    213988\n",
      "\n"
     ]
    }
   ],
   "source": [
    "def get_model_clus(data_file='wrang_xyz_data.csv',pred_value=['grade']):\n",
    " \n",
    "    df = pd.read_csv('data/'+data_file,usecols=features+['issue_d']+pred_value)\n",
    "\n",
    "    X=df.drop([pred_value[0],'issue_d'],axis=1)\n",
    "    y=df[pred_value[0]]\n",
    "\n",
    "    scaler = StandardScaler()\n",
    "    scaler.fit(X)\n",
    "    X = scaler.transform(X)\n",
    "    X_train, X_test, y_train, y_test = train_test_split(X, y, train_size=0.75, test_size=0.25)\n",
    "\n",
    "    model_clus = KNeighborsClassifier(n_neighbors=5)\n",
    "    model_clus.fit(X_train,y_train)\n",
    "    y_clus_pred = model_clus.predict(X_test)\n",
    "    print(confusion_matrix(y_test, y_clus_pred))\n",
    "    print(classification_report(y_test, y_clus_pred))\n",
    "\n",
    "    return model_clus\n",
    "\n",
    "model_clus=get_model_clus(pred_value=['grade'])"
   ]
  },
  {
   "cell_type": "code",
   "execution_count": null,
   "metadata": {},
   "outputs": [],
   "source": []
  }
 ],
 "metadata": {
  "interpreter": {
   "hash": "e7d9ec2020d2e3092f227ed7e61b65638542f0e636f9a1d34fd190ee473e245c"
  },
  "kernelspec": {
   "display_name": "Python 3.9.12 ('xyz_corp_venv': venv)",
   "language": "python",
   "name": "python3"
  },
  "language_info": {
   "codemirror_mode": {
    "name": "ipython",
    "version": 3
   },
   "file_extension": ".py",
   "mimetype": "text/x-python",
   "name": "python",
   "nbconvert_exporter": "python",
   "pygments_lexer": "ipython3",
   "version": "3.9.12"
  },
  "orig_nbformat": 4
 },
 "nbformat": 4,
 "nbformat_minor": 2
}
