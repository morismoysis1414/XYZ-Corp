{
 "cells": [
  {
   "cell_type": "code",
   "execution_count": 32,
   "metadata": {},
   "outputs": [],
   "source": [
    "#Imports\n",
    "\n",
    "#Data\n",
    "import pandas as pd\n",
    "import numpy as np\n",
    "\n",
    "#Date\n",
    "import datetime as dt\n",
    "from datetime import datetime\n",
    "\n",
    "#Visualisation\n",
    "import matplotlib as mpl\n",
    "import matplotlib.pyplot as plt\n",
    "import seaborn as sns\n",
    "\n",
    "#ML\n",
    "from imblearn.under_sampling import RandomUnderSampler\n",
    "\n",
    "from sklearn.model_selection import train_test_split\n",
    "from sklearn.preprocessing import StandardScaler, MinMaxScaler\n",
    "\n",
    "\n",
    "\n",
    "from sklearn.neighbors import KNeighborsClassifier\n",
    "\n",
    "from sklearn import datasets\n",
    "from sklearn.metrics import confusion_matrix,classification_report\n",
    "\n",
    "from sklearn.preprocessing import OneHotEncoder\n",
    "\n",
    "data_file='wrang_xyz_data.csv'\n",
    "\n",
    "financial_data=['total_rev_hi_lim','tot_cur_bal','tot_coll_amt','revol_util','loan_amnt','dti','revol_bal']\n",
    "loan_data=['purpose','initial_list_status','term']\n",
    "emp_data=['emp_length','collections_12_mths_ex_med','acc_now_delinq','home_ownership','annual_inc','verification_status','zip_code','addr_state','delinq_2yrs','inq_last_6mths','open_acc','pub_rec','total_acc']\n",
    "date_data=['earliest_cr_line']\n",
    "\n",
    "\n",
    "#out=['last_pymnt_d','last_credit_pull_d','initial_list_status','recoveries','collection_recovery_fee','last_pymnt_amnt','total_pymnt','total_rec_int','int_rate','out_prncp',''total_rec_late_fee','default_ind']\n",
    "\n",
    "features=financial_data+loan_data+emp_data+date_data\n",
    "pred_data=['issue_d','grade','sub_grade']"
   ]
  },
  {
   "cell_type": "code",
   "execution_count": 40,
   "metadata": {},
   "outputs": [
    {
     "name": "stderr",
     "output_type": "stream",
     "text": [
      "c:\\Users\\mmoy\\Documents\\XYZ Corp\\xyz_corp_venv\\lib\\site-packages\\sklearn\\base.py:450: UserWarning: X does not have valid feature names, but KNeighborsClassifier was fitted with feature names\n",
      "  warnings.warn(\n"
     ]
    },
    {
     "ename": "KeyboardInterrupt",
     "evalue": "",
     "output_type": "error",
     "traceback": [
      "\u001b[1;31m---------------------------------------------------------------------------\u001b[0m",
      "\u001b[1;31mKeyboardInterrupt\u001b[0m                         Traceback (most recent call last)",
      "\u001b[1;32mc:\\Users\\mmoy\\Documents\\XYZ Corp\\clust_model.ipynb Cell 2'\u001b[0m in \u001b[0;36m<cell line: 41>\u001b[1;34m()\u001b[0m\n\u001b[0;32m     <a href='vscode-notebook-cell:/c%3A/Users/mmoy/Documents/XYZ%20Corp/clust_model.ipynb#ch0000000?line=36'>37</a>\u001b[0m     \u001b[39mprint\u001b[39m(classification_report(y_test, y_knn_pred))\n\u001b[0;32m     <a href='vscode-notebook-cell:/c%3A/Users/mmoy/Documents/XYZ%20Corp/clust_model.ipynb#ch0000000?line=38'>39</a>\u001b[0m     \u001b[39mreturn\u001b[39;00m model_knn\n\u001b[1;32m---> <a href='vscode-notebook-cell:/c%3A/Users/mmoy/Documents/XYZ%20Corp/clust_model.ipynb#ch0000000?line=40'>41</a>\u001b[0m model_knn\u001b[39m=\u001b[39mget_model_class(split\u001b[39m=\u001b[39;49m\u001b[39m'\u001b[39;49m\u001b[39mrandom\u001b[39;49m\u001b[39m'\u001b[39;49m,pred_value\u001b[39m=\u001b[39;49m[\u001b[39m'\u001b[39;49m\u001b[39mgrade\u001b[39;49m\u001b[39m'\u001b[39;49m])\n",
      "\u001b[1;32mc:\\Users\\mmoy\\Documents\\XYZ Corp\\clust_model.ipynb Cell 2'\u001b[0m in \u001b[0;36mget_model_class\u001b[1;34m(data_file, split, pred_value)\u001b[0m\n\u001b[0;32m     <a href='vscode-notebook-cell:/c%3A/Users/mmoy/Documents/XYZ%20Corp/clust_model.ipynb#ch0000000?line=32'>33</a>\u001b[0m model_knn \u001b[39m=\u001b[39m KNeighborsClassifier(n_neighbors\u001b[39m=\u001b[39m\u001b[39m5\u001b[39m)\n\u001b[0;32m     <a href='vscode-notebook-cell:/c%3A/Users/mmoy/Documents/XYZ%20Corp/clust_model.ipynb#ch0000000?line=33'>34</a>\u001b[0m model_knn\u001b[39m.\u001b[39mfit(X_train,y_train)\n\u001b[1;32m---> <a href='vscode-notebook-cell:/c%3A/Users/mmoy/Documents/XYZ%20Corp/clust_model.ipynb#ch0000000?line=34'>35</a>\u001b[0m y_knn_pred \u001b[39m=\u001b[39m knn\u001b[39m.\u001b[39;49mpredict(X_test)\n\u001b[0;32m     <a href='vscode-notebook-cell:/c%3A/Users/mmoy/Documents/XYZ%20Corp/clust_model.ipynb#ch0000000?line=35'>36</a>\u001b[0m \u001b[39mprint\u001b[39m(confusion_matrix(y_test, y_knn_pred))\n\u001b[0;32m     <a href='vscode-notebook-cell:/c%3A/Users/mmoy/Documents/XYZ%20Corp/clust_model.ipynb#ch0000000?line=36'>37</a>\u001b[0m \u001b[39mprint\u001b[39m(classification_report(y_test, y_knn_pred))\n",
      "File \u001b[1;32mc:\\Users\\mmoy\\Documents\\XYZ Corp\\xyz_corp_venv\\lib\\site-packages\\sklearn\\neighbors\\_classification.py:214\u001b[0m, in \u001b[0;36mKNeighborsClassifier.predict\u001b[1;34m(self, X)\u001b[0m\n\u001b[0;32m    <a href='file:///c%3A/Users/mmoy/Documents/XYZ%20Corp/xyz_corp_venv/lib/site-packages/sklearn/neighbors/_classification.py?line=199'>200</a>\u001b[0m \u001b[39mdef\u001b[39;00m \u001b[39mpredict\u001b[39m(\u001b[39mself\u001b[39m, X):\n\u001b[0;32m    <a href='file:///c%3A/Users/mmoy/Documents/XYZ%20Corp/xyz_corp_venv/lib/site-packages/sklearn/neighbors/_classification.py?line=200'>201</a>\u001b[0m     \u001b[39m\"\"\"Predict the class labels for the provided data.\u001b[39;00m\n\u001b[0;32m    <a href='file:///c%3A/Users/mmoy/Documents/XYZ%20Corp/xyz_corp_venv/lib/site-packages/sklearn/neighbors/_classification.py?line=201'>202</a>\u001b[0m \n\u001b[0;32m    <a href='file:///c%3A/Users/mmoy/Documents/XYZ%20Corp/xyz_corp_venv/lib/site-packages/sklearn/neighbors/_classification.py?line=202'>203</a>\u001b[0m \u001b[39m    Parameters\u001b[39;00m\n\u001b[1;32m   (...)\u001b[0m\n\u001b[0;32m    <a href='file:///c%3A/Users/mmoy/Documents/XYZ%20Corp/xyz_corp_venv/lib/site-packages/sklearn/neighbors/_classification.py?line=211'>212</a>\u001b[0m \u001b[39m        Class labels for each data sample.\u001b[39;00m\n\u001b[0;32m    <a href='file:///c%3A/Users/mmoy/Documents/XYZ%20Corp/xyz_corp_venv/lib/site-packages/sklearn/neighbors/_classification.py?line=212'>213</a>\u001b[0m \u001b[39m    \"\"\"\u001b[39;00m\n\u001b[1;32m--> <a href='file:///c%3A/Users/mmoy/Documents/XYZ%20Corp/xyz_corp_venv/lib/site-packages/sklearn/neighbors/_classification.py?line=213'>214</a>\u001b[0m     neigh_dist, neigh_ind \u001b[39m=\u001b[39m \u001b[39mself\u001b[39;49m\u001b[39m.\u001b[39;49mkneighbors(X)\n\u001b[0;32m    <a href='file:///c%3A/Users/mmoy/Documents/XYZ%20Corp/xyz_corp_venv/lib/site-packages/sklearn/neighbors/_classification.py?line=214'>215</a>\u001b[0m     classes_ \u001b[39m=\u001b[39m \u001b[39mself\u001b[39m\u001b[39m.\u001b[39mclasses_\n\u001b[0;32m    <a href='file:///c%3A/Users/mmoy/Documents/XYZ%20Corp/xyz_corp_venv/lib/site-packages/sklearn/neighbors/_classification.py?line=215'>216</a>\u001b[0m     _y \u001b[39m=\u001b[39m \u001b[39mself\u001b[39m\u001b[39m.\u001b[39m_y\n",
      "File \u001b[1;32mc:\\Users\\mmoy\\Documents\\XYZ Corp\\xyz_corp_venv\\lib\\site-packages\\sklearn\\neighbors\\_base.py:752\u001b[0m, in \u001b[0;36mKNeighborsMixin.kneighbors\u001b[1;34m(self, X, n_neighbors, return_distance)\u001b[0m\n\u001b[0;32m    <a href='file:///c%3A/Users/mmoy/Documents/XYZ%20Corp/xyz_corp_venv/lib/site-packages/sklearn/neighbors/_base.py?line=748'>749</a>\u001b[0m     \u001b[39melse\u001b[39;00m:\n\u001b[0;32m    <a href='file:///c%3A/Users/mmoy/Documents/XYZ%20Corp/xyz_corp_venv/lib/site-packages/sklearn/neighbors/_base.py?line=749'>750</a>\u001b[0m         kwds \u001b[39m=\u001b[39m \u001b[39mself\u001b[39m\u001b[39m.\u001b[39meffective_metric_params_\n\u001b[1;32m--> <a href='file:///c%3A/Users/mmoy/Documents/XYZ%20Corp/xyz_corp_venv/lib/site-packages/sklearn/neighbors/_base.py?line=751'>752</a>\u001b[0m     chunked_results \u001b[39m=\u001b[39m \u001b[39mlist\u001b[39;49m(\n\u001b[0;32m    <a href='file:///c%3A/Users/mmoy/Documents/XYZ%20Corp/xyz_corp_venv/lib/site-packages/sklearn/neighbors/_base.py?line=752'>753</a>\u001b[0m         pairwise_distances_chunked(\n\u001b[0;32m    <a href='file:///c%3A/Users/mmoy/Documents/XYZ%20Corp/xyz_corp_venv/lib/site-packages/sklearn/neighbors/_base.py?line=753'>754</a>\u001b[0m             X,\n\u001b[0;32m    <a href='file:///c%3A/Users/mmoy/Documents/XYZ%20Corp/xyz_corp_venv/lib/site-packages/sklearn/neighbors/_base.py?line=754'>755</a>\u001b[0m             \u001b[39mself\u001b[39;49m\u001b[39m.\u001b[39;49m_fit_X,\n\u001b[0;32m    <a href='file:///c%3A/Users/mmoy/Documents/XYZ%20Corp/xyz_corp_venv/lib/site-packages/sklearn/neighbors/_base.py?line=755'>756</a>\u001b[0m             reduce_func\u001b[39m=\u001b[39;49mreduce_func,\n\u001b[0;32m    <a href='file:///c%3A/Users/mmoy/Documents/XYZ%20Corp/xyz_corp_venv/lib/site-packages/sklearn/neighbors/_base.py?line=756'>757</a>\u001b[0m             metric\u001b[39m=\u001b[39;49m\u001b[39mself\u001b[39;49m\u001b[39m.\u001b[39;49meffective_metric_,\n\u001b[0;32m    <a href='file:///c%3A/Users/mmoy/Documents/XYZ%20Corp/xyz_corp_venv/lib/site-packages/sklearn/neighbors/_base.py?line=757'>758</a>\u001b[0m             n_jobs\u001b[39m=\u001b[39;49mn_jobs,\n\u001b[0;32m    <a href='file:///c%3A/Users/mmoy/Documents/XYZ%20Corp/xyz_corp_venv/lib/site-packages/sklearn/neighbors/_base.py?line=758'>759</a>\u001b[0m             \u001b[39m*\u001b[39;49m\u001b[39m*\u001b[39;49mkwds,\n\u001b[0;32m    <a href='file:///c%3A/Users/mmoy/Documents/XYZ%20Corp/xyz_corp_venv/lib/site-packages/sklearn/neighbors/_base.py?line=759'>760</a>\u001b[0m         )\n\u001b[0;32m    <a href='file:///c%3A/Users/mmoy/Documents/XYZ%20Corp/xyz_corp_venv/lib/site-packages/sklearn/neighbors/_base.py?line=760'>761</a>\u001b[0m     )\n\u001b[0;32m    <a href='file:///c%3A/Users/mmoy/Documents/XYZ%20Corp/xyz_corp_venv/lib/site-packages/sklearn/neighbors/_base.py?line=762'>763</a>\u001b[0m \u001b[39melif\u001b[39;00m \u001b[39mself\u001b[39m\u001b[39m.\u001b[39m_fit_method \u001b[39min\u001b[39;00m [\u001b[39m\"\u001b[39m\u001b[39mball_tree\u001b[39m\u001b[39m\"\u001b[39m, \u001b[39m\"\u001b[39m\u001b[39mkd_tree\u001b[39m\u001b[39m\"\u001b[39m]:\n\u001b[0;32m    <a href='file:///c%3A/Users/mmoy/Documents/XYZ%20Corp/xyz_corp_venv/lib/site-packages/sklearn/neighbors/_base.py?line=763'>764</a>\u001b[0m     \u001b[39mif\u001b[39;00m issparse(X):\n",
      "File \u001b[1;32mc:\\Users\\mmoy\\Documents\\XYZ Corp\\xyz_corp_venv\\lib\\site-packages\\sklearn\\metrics\\pairwise.py:1717\u001b[0m, in \u001b[0;36mpairwise_distances_chunked\u001b[1;34m(X, Y, reduce_func, metric, n_jobs, working_memory, **kwds)\u001b[0m\n\u001b[0;32m   <a href='file:///c%3A/Users/mmoy/Documents/XYZ%20Corp/xyz_corp_venv/lib/site-packages/sklearn/metrics/pairwise.py?line=1714'>1715</a>\u001b[0m \u001b[39melse\u001b[39;00m:\n\u001b[0;32m   <a href='file:///c%3A/Users/mmoy/Documents/XYZ%20Corp/xyz_corp_venv/lib/site-packages/sklearn/metrics/pairwise.py?line=1715'>1716</a>\u001b[0m     X_chunk \u001b[39m=\u001b[39m X[sl]\n\u001b[1;32m-> <a href='file:///c%3A/Users/mmoy/Documents/XYZ%20Corp/xyz_corp_venv/lib/site-packages/sklearn/metrics/pairwise.py?line=1716'>1717</a>\u001b[0m D_chunk \u001b[39m=\u001b[39m pairwise_distances(X_chunk, Y, metric\u001b[39m=\u001b[39mmetric, n_jobs\u001b[39m=\u001b[39mn_jobs, \u001b[39m*\u001b[39m\u001b[39m*\u001b[39mkwds)\n\u001b[0;32m   <a href='file:///c%3A/Users/mmoy/Documents/XYZ%20Corp/xyz_corp_venv/lib/site-packages/sklearn/metrics/pairwise.py?line=1717'>1718</a>\u001b[0m \u001b[39mif\u001b[39;00m (X \u001b[39mis\u001b[39;00m Y \u001b[39mor\u001b[39;00m Y \u001b[39mis\u001b[39;00m \u001b[39mNone\u001b[39;00m) \u001b[39mand\u001b[39;00m PAIRWISE_DISTANCE_FUNCTIONS\u001b[39m.\u001b[39mget(\n\u001b[0;32m   <a href='file:///c%3A/Users/mmoy/Documents/XYZ%20Corp/xyz_corp_venv/lib/site-packages/sklearn/metrics/pairwise.py?line=1718'>1719</a>\u001b[0m     metric, \u001b[39mNone\u001b[39;00m\n\u001b[0;32m   <a href='file:///c%3A/Users/mmoy/Documents/XYZ%20Corp/xyz_corp_venv/lib/site-packages/sklearn/metrics/pairwise.py?line=1719'>1720</a>\u001b[0m ) \u001b[39mis\u001b[39;00m euclidean_distances:\n\u001b[0;32m   <a href='file:///c%3A/Users/mmoy/Documents/XYZ%20Corp/xyz_corp_venv/lib/site-packages/sklearn/metrics/pairwise.py?line=1720'>1721</a>\u001b[0m     \u001b[39m# zeroing diagonal, taking care of aliases of \"euclidean\",\u001b[39;00m\n\u001b[0;32m   <a href='file:///c%3A/Users/mmoy/Documents/XYZ%20Corp/xyz_corp_venv/lib/site-packages/sklearn/metrics/pairwise.py?line=1721'>1722</a>\u001b[0m     \u001b[39m# i.e. \"l2\"\u001b[39;00m\n\u001b[0;32m   <a href='file:///c%3A/Users/mmoy/Documents/XYZ%20Corp/xyz_corp_venv/lib/site-packages/sklearn/metrics/pairwise.py?line=1722'>1723</a>\u001b[0m     D_chunk\u001b[39m.\u001b[39mflat[sl\u001b[39m.\u001b[39mstart :: _num_samples(X) \u001b[39m+\u001b[39m \u001b[39m1\u001b[39m] \u001b[39m=\u001b[39m \u001b[39m0\u001b[39m\n",
      "File \u001b[1;32mc:\\Users\\mmoy\\Documents\\XYZ Corp\\xyz_corp_venv\\lib\\site-packages\\sklearn\\metrics\\pairwise.py:1889\u001b[0m, in \u001b[0;36mpairwise_distances\u001b[1;34m(X, Y, metric, n_jobs, force_all_finite, **kwds)\u001b[0m\n\u001b[0;32m   <a href='file:///c%3A/Users/mmoy/Documents/XYZ%20Corp/xyz_corp_venv/lib/site-packages/sklearn/metrics/pairwise.py?line=1885'>1886</a>\u001b[0m         \u001b[39mreturn\u001b[39;00m distance\u001b[39m.\u001b[39msquareform(distance\u001b[39m.\u001b[39mpdist(X, metric\u001b[39m=\u001b[39mmetric, \u001b[39m*\u001b[39m\u001b[39m*\u001b[39mkwds))\n\u001b[0;32m   <a href='file:///c%3A/Users/mmoy/Documents/XYZ%20Corp/xyz_corp_venv/lib/site-packages/sklearn/metrics/pairwise.py?line=1886'>1887</a>\u001b[0m     func \u001b[39m=\u001b[39m partial(distance\u001b[39m.\u001b[39mcdist, metric\u001b[39m=\u001b[39mmetric, \u001b[39m*\u001b[39m\u001b[39m*\u001b[39mkwds)\n\u001b[1;32m-> <a href='file:///c%3A/Users/mmoy/Documents/XYZ%20Corp/xyz_corp_venv/lib/site-packages/sklearn/metrics/pairwise.py?line=1888'>1889</a>\u001b[0m \u001b[39mreturn\u001b[39;00m _parallel_pairwise(X, Y, func, n_jobs, \u001b[39m*\u001b[39m\u001b[39m*\u001b[39mkwds)\n",
      "File \u001b[1;32mc:\\Users\\mmoy\\Documents\\XYZ Corp\\xyz_corp_venv\\lib\\site-packages\\sklearn\\metrics\\pairwise.py:1430\u001b[0m, in \u001b[0;36m_parallel_pairwise\u001b[1;34m(X, Y, func, n_jobs, **kwds)\u001b[0m\n\u001b[0;32m   <a href='file:///c%3A/Users/mmoy/Documents/XYZ%20Corp/xyz_corp_venv/lib/site-packages/sklearn/metrics/pairwise.py?line=1426'>1427</a>\u001b[0m X, Y, dtype \u001b[39m=\u001b[39m _return_float_dtype(X, Y)\n\u001b[0;32m   <a href='file:///c%3A/Users/mmoy/Documents/XYZ%20Corp/xyz_corp_venv/lib/site-packages/sklearn/metrics/pairwise.py?line=1428'>1429</a>\u001b[0m \u001b[39mif\u001b[39;00m effective_n_jobs(n_jobs) \u001b[39m==\u001b[39m \u001b[39m1\u001b[39m:\n\u001b[1;32m-> <a href='file:///c%3A/Users/mmoy/Documents/XYZ%20Corp/xyz_corp_venv/lib/site-packages/sklearn/metrics/pairwise.py?line=1429'>1430</a>\u001b[0m     \u001b[39mreturn\u001b[39;00m func(X, Y, \u001b[39m*\u001b[39m\u001b[39m*\u001b[39mkwds)\n\u001b[0;32m   <a href='file:///c%3A/Users/mmoy/Documents/XYZ%20Corp/xyz_corp_venv/lib/site-packages/sklearn/metrics/pairwise.py?line=1431'>1432</a>\u001b[0m \u001b[39m# enforce a threading backend to prevent data communication overhead\u001b[39;00m\n\u001b[0;32m   <a href='file:///c%3A/Users/mmoy/Documents/XYZ%20Corp/xyz_corp_venv/lib/site-packages/sklearn/metrics/pairwise.py?line=1432'>1433</a>\u001b[0m fd \u001b[39m=\u001b[39m delayed(_dist_wrapper)\n",
      "File \u001b[1;32mc:\\Users\\mmoy\\Documents\\XYZ Corp\\xyz_corp_venv\\lib\\site-packages\\sklearn\\metrics\\pairwise.py:330\u001b[0m, in \u001b[0;36meuclidean_distances\u001b[1;34m(X, Y, Y_norm_squared, squared, X_norm_squared)\u001b[0m\n\u001b[0;32m    <a href='file:///c%3A/Users/mmoy/Documents/XYZ%20Corp/xyz_corp_venv/lib/site-packages/sklearn/metrics/pairwise.py?line=323'>324</a>\u001b[0m     \u001b[39mif\u001b[39;00m Y_norm_squared\u001b[39m.\u001b[39mshape \u001b[39m!=\u001b[39m (\u001b[39m1\u001b[39m, Y\u001b[39m.\u001b[39mshape[\u001b[39m0\u001b[39m]):\n\u001b[0;32m    <a href='file:///c%3A/Users/mmoy/Documents/XYZ%20Corp/xyz_corp_venv/lib/site-packages/sklearn/metrics/pairwise.py?line=324'>325</a>\u001b[0m         \u001b[39mraise\u001b[39;00m \u001b[39mValueError\u001b[39;00m(\n\u001b[0;32m    <a href='file:///c%3A/Users/mmoy/Documents/XYZ%20Corp/xyz_corp_venv/lib/site-packages/sklearn/metrics/pairwise.py?line=325'>326</a>\u001b[0m             \u001b[39mf\u001b[39m\u001b[39m\"\u001b[39m\u001b[39mIncompatible dimensions for Y of shape \u001b[39m\u001b[39m{\u001b[39;00mY\u001b[39m.\u001b[39mshape\u001b[39m}\u001b[39;00m\u001b[39m and \u001b[39m\u001b[39m\"\u001b[39m\n\u001b[0;32m    <a href='file:///c%3A/Users/mmoy/Documents/XYZ%20Corp/xyz_corp_venv/lib/site-packages/sklearn/metrics/pairwise.py?line=326'>327</a>\u001b[0m             \u001b[39mf\u001b[39m\u001b[39m\"\u001b[39m\u001b[39mY_norm_squared of shape \u001b[39m\u001b[39m{\u001b[39;00moriginal_shape\u001b[39m}\u001b[39;00m\u001b[39m.\u001b[39m\u001b[39m\"\u001b[39m\n\u001b[0;32m    <a href='file:///c%3A/Users/mmoy/Documents/XYZ%20Corp/xyz_corp_venv/lib/site-packages/sklearn/metrics/pairwise.py?line=327'>328</a>\u001b[0m         )\n\u001b[1;32m--> <a href='file:///c%3A/Users/mmoy/Documents/XYZ%20Corp/xyz_corp_venv/lib/site-packages/sklearn/metrics/pairwise.py?line=329'>330</a>\u001b[0m \u001b[39mreturn\u001b[39;00m _euclidean_distances(X, Y, X_norm_squared, Y_norm_squared, squared)\n",
      "File \u001b[1;32mc:\\Users\\mmoy\\Documents\\XYZ Corp\\xyz_corp_venv\\lib\\site-packages\\sklearn\\metrics\\pairwise.py:371\u001b[0m, in \u001b[0;36m_euclidean_distances\u001b[1;34m(X, Y, X_norm_squared, Y_norm_squared, squared)\u001b[0m\n\u001b[0;32m    <a href='file:///c%3A/Users/mmoy/Documents/XYZ%20Corp/xyz_corp_venv/lib/site-packages/sklearn/metrics/pairwise.py?line=367'>368</a>\u001b[0m     distances \u001b[39m=\u001b[39m _euclidean_distances_upcast(X, XX, Y, YY)\n\u001b[0;32m    <a href='file:///c%3A/Users/mmoy/Documents/XYZ%20Corp/xyz_corp_venv/lib/site-packages/sklearn/metrics/pairwise.py?line=368'>369</a>\u001b[0m \u001b[39melse\u001b[39;00m:\n\u001b[0;32m    <a href='file:///c%3A/Users/mmoy/Documents/XYZ%20Corp/xyz_corp_venv/lib/site-packages/sklearn/metrics/pairwise.py?line=369'>370</a>\u001b[0m     \u001b[39m# if dtype is already float64, no need to chunk and upcast\u001b[39;00m\n\u001b[1;32m--> <a href='file:///c%3A/Users/mmoy/Documents/XYZ%20Corp/xyz_corp_venv/lib/site-packages/sklearn/metrics/pairwise.py?line=370'>371</a>\u001b[0m     distances \u001b[39m=\u001b[39m \u001b[39m-\u001b[39;49m\u001b[39m2\u001b[39;49m \u001b[39m*\u001b[39;49m safe_sparse_dot(X, Y\u001b[39m.\u001b[39;49mT, dense_output\u001b[39m=\u001b[39;49m\u001b[39mTrue\u001b[39;49;00m)\n\u001b[0;32m    <a href='file:///c%3A/Users/mmoy/Documents/XYZ%20Corp/xyz_corp_venv/lib/site-packages/sklearn/metrics/pairwise.py?line=371'>372</a>\u001b[0m     distances \u001b[39m+\u001b[39m\u001b[39m=\u001b[39m XX\n\u001b[0;32m    <a href='file:///c%3A/Users/mmoy/Documents/XYZ%20Corp/xyz_corp_venv/lib/site-packages/sklearn/metrics/pairwise.py?line=372'>373</a>\u001b[0m     distances \u001b[39m+\u001b[39m\u001b[39m=\u001b[39m YY\n",
      "\u001b[1;31mKeyboardInterrupt\u001b[0m: "
     ]
    }
   ],
   "source": [
    "def get_model_class(data_file='wrang_xyz_data.csv',split='random',pred_value=['grade']):\n",
    " \n",
    "    df = pd.read_csv('data/'+data_file,usecols=features+['issue_d']+pred_value)\n",
    "\n",
    "\n",
    "\n",
    "\n",
    "    if split=='random':\n",
    "        X=df.drop([pred_value[0],'issue_d'],axis=1)\n",
    "        y=df[pred_value[0]]\n",
    "\n",
    "        scaler = StandardScaler()\n",
    "        scaler.fit(X)\n",
    "        X = scaler.transform(X)\n",
    "        X_train, X_test, y_train, y_test = train_test_split(X, y, train_size=0.75, test_size=0.25)\n",
    "\n",
    "    else:\n",
    "        X=df.drop([pred_value[0]],axis=1)\n",
    "        y=df[[pred_value[0],'issue_d']]\n",
    "\n",
    "\n",
    "        X_train=X[X['issue_d']<=20150501].drop('issue_d',axis=1)\n",
    "        X_test=X[X['issue_d']>20150501].drop('issue_d',axis=1)\n",
    "\n",
    "        y_train=y[y['issue_d']<=20150501][pred_value[0]]\n",
    "        y_test=y[y['issue_d']>20150501][pred_value[0]]\n",
    "\n",
    "        scaler = StandardScaler()\n",
    "        scaler.fit(X_train,X_test)\n",
    "        X_train = scaler.transform(X_train)\n",
    "\n",
    "\n",
    "    model_knn = KNeighborsClassifier(n_neighbors=5)\n",
    "    model_knn.fit(X_train,y_train)\n",
    "    y_knn_pred = knn.predict(X_test)\n",
    "    print(confusion_matrix(y_test, y_knn_pred))\n",
    "    print(classification_report(y_test, y_knn_pred))\n",
    "\n",
    "    return model_knn\n",
    "\n",
    "model_knn=get_model_class(split='random',pred_value=['grade'])"
   ]
  }
 ],
 "metadata": {
  "interpreter": {
   "hash": "e7d9ec2020d2e3092f227ed7e61b65638542f0e636f9a1d34fd190ee473e245c"
  },
  "kernelspec": {
   "display_name": "Python 3.9.12 ('xyz_corp_venv': venv)",
   "language": "python",
   "name": "python3"
  },
  "language_info": {
   "codemirror_mode": {
    "name": "ipython",
    "version": 3
   },
   "file_extension": ".py",
   "mimetype": "text/x-python",
   "name": "python",
   "nbconvert_exporter": "python",
   "pygments_lexer": "ipython3",
   "version": "3.9.12"
  },
  "orig_nbformat": 4
 },
 "nbformat": 4,
 "nbformat_minor": 2
}
