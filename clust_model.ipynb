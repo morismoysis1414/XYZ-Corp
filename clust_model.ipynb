{
 "cells": [
  {
   "cell_type": "markdown",
   "metadata": {},
   "source": [
    "# Clustering Model\n",
    "A notebook that predicts loan grade for Problem 2 using KNN"
   ]
  },
  {
   "cell_type": "code",
   "execution_count": 1,
   "metadata": {},
   "outputs": [],
   "source": [
    "#Imports\n",
    "\n",
    "#Data\n",
    "import pandas as pd\n",
    "import numpy as np\n",
    "\n",
    "#Date\n",
    "import datetime as dt\n",
    "from datetime import datetime\n",
    "\n",
    "#Visualisation\n",
    "import matplotlib as mpl\n",
    "import matplotlib.pyplot as plt\n",
    "import seaborn as sns\n",
    "\n",
    "#ML\n",
    "\n",
    "#General\n",
    "from sklearn.preprocessing import StandardScaler\n",
    "from sklearn.model_selection import train_test_split\n",
    "from sklearn.metrics import confusion_matrix,classification_report\n",
    "from sklearn.preprocessing import LabelEncoder\n",
    "from sklearn.preprocessing import OneHotEncoder\n",
    "\n",
    "#knn\n",
    "from sklearn.neighbors import KNeighborsClassifier"
   ]
  },
  {
   "cell_type": "code",
   "execution_count": 8,
   "metadata": {},
   "outputs": [],
   "source": [
    "#Getting the csv file's name with the wrangled data\n",
    "data_file='wrang_xyz_data.csv'\n",
    "\n",
    "#Splitting the data into different categories that make sense\n",
    "loan_data=['purpose','initial_list_status','term','loan_amnt']\n",
    "emp_data=['emp_length','collections_12_mths_ex_med','acc_now_delinq','home_ownership','annual_inc','verification_status','delinq_2yrs','inq_last_6mths','open_acc','pub_rec','total_acc','earliest_cr_line','dti','tot_cur_bal','tot_coll_amt'] #address\n",
    "\n",
    "#The following inputs are left out as they are only useful for problem 1.\n",
    "#out=['last_pymnt_d','last_credit_pull_d','recoveries','collection_recovery_fee','last_pymnt_amnt','total_pymnt','total_rec_int','int_rate','out_prncp',''total_rec_late_fee','default_ind']\n",
    "\n",
    "#Getting the features that will be included in the model\n",
    "features=loan_data+emp_data"
   ]
  },
  {
   "cell_type": "code",
   "execution_count": 3,
   "metadata": {},
   "outputs": [
    {
     "name": "stdout",
     "output_type": "stream",
     "text": [
      "[[20970 12196  2722   412    44     4     0]\n",
      " [15105 29877 13859  2658   498    48     0]\n",
      " [ 6787 22436 21341  6456  1917   237    19]\n",
      " [ 2138  9616 12946  6016  2251   347    28]\n",
      " [  480  3133  6352  3984  2179   460    36]\n",
      " [   77   611  1760  1506   957   273    34]\n",
      " [    9   112   372   329   267   115    14]]\n",
      "              precision    recall  f1-score   support\n",
      "\n",
      "           0       0.46      0.58      0.51     36348\n",
      "           1       0.38      0.48      0.43     62045\n",
      "           2       0.36      0.36      0.36     59193\n",
      "           3       0.28      0.18      0.22     33342\n",
      "           4       0.27      0.13      0.18     16624\n",
      "           5       0.18      0.05      0.08      5218\n",
      "           6       0.11      0.01      0.02      1218\n",
      "\n",
      "    accuracy                           0.38    213988\n",
      "   macro avg       0.29      0.26      0.26    213988\n",
      "weighted avg       0.36      0.38      0.36    213988\n",
      "\n"
     ]
    }
   ],
   "source": [
    "#Clustering model predicting loan grade for problem 2\n",
    "#The model's inputs are the data_file which should be set equal to the wrangled data file and the value to be predicted \n",
    "#(pred_value) which in this case is the 'grade'. It could also be the 'sub_grade'\n",
    "\n",
    "def get_model_clus(data_file='wrang_xyz_data.csv',pred_value=['grade']):\n",
    "    #Imporitng the wrangled csv file and including the useful columns for it\n",
    "    df = pd.read_csv('data/'+data_file,usecols=features+pred_value)\n",
    "\n",
    "    #Creating X and y variables for input and output\n",
    "    X=df.drop(pred_value[0],axis=1)\n",
    "    y=df[pred_value[0]]\n",
    "\n",
    "    X_scale=X.drop(['purpose','verification_status','home_ownership','initial_list_status','term'],axis=1)\n",
    "    X_non_scale=X[['purpose','verification_status','home_ownership','initial_list_status','term']]\n",
    "    #Scaling the data\n",
    "    scaler = StandardScaler()\n",
    "    scaler.fit(X_scale)\n",
    "    X_scale = pd.DataFrame(scaler.transform(X_scale),index=X.index,columns=X_scale.columns)\n",
    "    X=X_scale.join(X_non_scale)\n",
    "\n",
    "\n",
    "    #Splitting the data into train and test\n",
    "    X_train, X_test, y_train, y_test = train_test_split(X, y, train_size=0.75, test_size=0.25)\n",
    "\n",
    "    #One-hot Encoding\n",
    "    ohe_cols=['purpose','verification_status','home_ownership','initial_list_status','term'] #address\n",
    "    ohe = OneHotEncoder(handle_unknown='ignore')\n",
    "    ohe.fit(X_train[ohe_cols])\n",
    "    X_train_enc = pd.DataFrame(ohe.transform(X_train[ohe_cols]).toarray(),index=X_train.index)\n",
    "    X_train=X_train.join(X_train_enc).drop(ohe_cols,axis=1)\n",
    "    X_train.columns = X_train.columns.map(str)\n",
    "    X_test_enc = pd.DataFrame(ohe.transform(X_test[ohe_cols]).toarray(),index=X_test.index)\n",
    "    X_test=X_test.join(X_test_enc).drop(ohe_cols,axis=1)\n",
    "    X_test.columns = X_test.columns.map(str)\n",
    "\n",
    "    #Using the K-Neirghest-Neighours algorith for clustering\n",
    "    model_clus = KNeighborsClassifier(n_neighbors=5)\n",
    "    model_clus.fit(X_train,y_train)\n",
    "    y_clus_pred = model_clus.predict(X_test)\n",
    "\n",
    "    #Printing useful metrics\n",
    "    print(confusion_matrix(y_test, y_clus_pred))\n",
    "    print(classification_report(y_test, y_clus_pred))\n",
    "\n",
    "    return model_clus\n",
    "#Running the function \n",
    "model_clus=get_model_clus(pred_value=['grade'])"
   ]
  },
  {
   "cell_type": "code",
   "execution_count": 3,
   "metadata": {},
   "outputs": [
    {
     "data": {
      "text/plain": [
       "Text(0, 0.5, 'Error Rate')"
      ]
     },
     "execution_count": 3,
     "metadata": {},
     "output_type": "execute_result"
    },
    {
     "data": {
      "image/png": "[encoded data removed]",
      "text/plain": [
       "<Figure size 720x432 with 1 Axes>"
      ]
     },
     "metadata": {
      "needs_background": "light"
     },
     "output_type": "display_data"
    }
   ],
   "source": [
    "#This code will print a graph of error vs k value which will let you choose an appropriate \n",
    "#K\n",
    "pred_value=['sub_grade']\n",
    "features=['int_rate']\n",
    "data_file='wrang_xyz_data.csv'\n",
    "df = pd.read_csv('data/'+data_file,usecols=features+pred_value)\n",
    "\n",
    "#Creating X and y variables for input and output\n",
    "X=df.drop(pred_value[0],axis=1)\n",
    "y=df[pred_value[0]]\n",
    "\n",
    "#Scaling the data\n",
    "scaler = StandardScaler()\n",
    "scaler.fit(X)\n",
    "X = scaler.transform(X)\n",
    "\n",
    "#Splitting the data into train and test\n",
    "X_train, X_test, y_train, y_test = train_test_split(X, y, train_size=0.75, test_size=0.25)\n",
    "\n",
    "\n",
    "#Creating empty error rate list\n",
    "error_rate = []\n",
    "\n",
    "#Running the algorithm for different values of k\n",
    "for i in range(1,10):\n",
    "    \n",
    "    knn = KNeighborsClassifier(n_neighbors=i)\n",
    "    knn.fit(X_train,y_train)\n",
    "    pred_i = knn.predict(X_test)\n",
    "    error_rate.append(np.mean(pred_i != y_test))\n",
    "\n",
    "plt.figure(figsize=(10,6))\n",
    "plt.plot(range(1,10),error_rate,color='blue', linestyle='dashed', marker='o',\n",
    "     markerfacecolor='red', markersize=10)\n",
    "plt.title('Error Rate vs. K Value')\n",
    "plt.xlabel('K')\n",
    "plt.ylabel('Error Rate')"
   ]
  },
  {
   "cell_type": "code",
   "execution_count": 9,
   "metadata": {},
   "outputs": [
    {
     "name": "stdout",
     "output_type": "stream",
     "text": [
      "[[5689   15    4 ...    0    0    0]\n",
      " [   0 5601    0 ...    0    0    0]\n",
      " [   0    0 5633 ...    0    0    0]\n",
      " ...\n",
      " [   0    0    0 ...  202    0    0]\n",
      " [   0    0    0 ...    0  116    0]\n",
      " [   0    0    0 ...    0    0  100]]\n",
      "              precision    recall  f1-score   support\n",
      "\n",
      "          A1       1.00      1.00      1.00      5708\n",
      "          A2       1.00      1.00      1.00      5601\n",
      "          A3       1.00      0.97      0.99      5789\n",
      "          A4       0.98      1.00      0.99      8516\n",
      "          A5       1.00      1.00      1.00     10971\n",
      "          B1       0.68      0.94      0.79     11080\n",
      "          B2       0.97      0.39      0.56     11746\n",
      "          B3       0.83      0.86      0.85     13677\n",
      "          B4       0.74      0.88      0.80     13620\n",
      "          B5       0.91      0.75      0.82     11844\n",
      "          C1       0.76      0.90      0.82     12924\n",
      "          C2       0.91      0.84      0.87     12661\n",
      "          C3       0.96      0.94      0.95     12095\n",
      "          C4       0.81      0.90      0.85     11570\n",
      "          C5       0.94      0.87      0.91      9972\n",
      "          D1       0.83      0.94      0.88      8703\n",
      "          D2       0.76      0.66      0.70      7035\n",
      "          D3       0.94      0.85      0.89      6211\n",
      "          D4       0.85      0.91      0.88      6154\n",
      "          D5       1.00      0.92      0.96      5099\n",
      "          E1       0.63      0.91      0.74      4400\n",
      "          E2       0.69      0.50      0.58      3957\n",
      "          E3       0.90      0.70      0.78      3315\n",
      "          E4       0.60      0.80      0.69      2589\n",
      "          E5       0.97      0.61      0.75      2213\n",
      "          F1       0.81      0.79      0.80      1656\n",
      "          F2       0.77      0.82      0.80      1207\n",
      "          F3       0.82      0.96      0.88      1043\n",
      "          F4       0.96      1.00      0.98       796\n",
      "          F5       1.00      0.91      0.95       623\n",
      "          G1       0.99      1.00      0.99       444\n",
      "          G2       1.00      0.98      0.99       312\n",
      "          G3       1.00      0.92      0.96       219\n",
      "          G4       0.71      0.89      0.79       130\n",
      "          G5       1.00      0.93      0.96       108\n",
      "\n",
      "    accuracy                           0.85    213988\n",
      "   macro avg       0.88      0.86      0.86    213988\n",
      "weighted avg       0.87      0.85      0.85    213988\n",
      "\n"
     ]
    }
   ],
   "source": [
    "#Running the clustering model for sub_grade, but with intrest rate being the only input as it is highly correlated to grade and sub-grade\n",
    "def get_model_clus(data_file='wrang_xyz_data.csv',pred_value=['sub_grade']):\n",
    "    #Imporitng the wrangled csv file and including the useful columns for it\n",
    "    features=['int_rate']\n",
    "    df = pd.read_csv('data/'+data_file,usecols=features+pred_value)\n",
    "\n",
    "    #Creating X and y variables for input and output\n",
    "    X=df.drop(pred_value[0],axis=1)\n",
    "    y=df[pred_value[0]]\n",
    "\n",
    "    #Scaling the data\n",
    "    scaler = StandardScaler()\n",
    "    scaler.fit(X)\n",
    "    X = scaler.transform(X)\n",
    "\n",
    "    #Splitting the data into train and test\n",
    "    X_train, X_test, y_train, y_test = train_test_split(X, y, train_size=0.75, test_size=0.25)\n",
    "\n",
    "    #Using the K-Neirghest-Neighours algorith for clustering\n",
    "    model_clus = KNeighborsClassifier(n_neighbors=7)\n",
    "    model_clus.fit(X_train,y_train)\n",
    "    y_clus_pred = model_clus.predict(X_test)\n",
    "\n",
    "    #Printing useful metrics\n",
    "    print(confusion_matrix(y_test, y_clus_pred))\n",
    "    print(classification_report(y_test, y_clus_pred))\n",
    "\n",
    "    return model_clus\n",
    "    \n",
    "#Running the function \n",
    "model_clus=get_model_clus(pred_value=['sub_grade'])"
   ]
  },
  {
   "cell_type": "code",
   "execution_count": null,
   "metadata": {},
   "outputs": [],
   "source": []
  }
 ],
 "metadata": {
  "interpreter": {
   "hash": "eab5d6664e134b349907fda3eca9fdee262c7deddd92e01a921384ce983d2a6f"
  },
  "kernelspec": {
   "display_name": "Python 3.9.12 ('xyz_corp_venv': venv)",
   "language": "python",
   "name": "python3"
  },
  "language_info": {
   "codemirror_mode": {
    "name": "ipython",
    "version": 3
   },
   "file_extension": ".py",
   "mimetype": "text/x-python",
   "name": "python",
   "nbconvert_exporter": "python",
   "pygments_lexer": "ipython3",
   "version": "3.9.12"
  },
  "orig_nbformat": 4
 },
 "nbformat": 4,
 "nbformat_minor": 2
}
