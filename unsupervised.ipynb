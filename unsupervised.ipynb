{
 "cells": [
  {
   "cell_type": "markdown",
   "metadata": {},
   "source": [
    "# Unsupervised Clustering Model\n",
    "A notebook that predicts loan grade for Problem 2 using unsupervised learning and K-means square"
   ]
  },
  {
   "cell_type": "code",
   "execution_count": 1,
   "metadata": {},
   "outputs": [],
   "source": [
    "#Imports\n",
    "\n",
    "#Data\n",
    "import pandas as pd\n",
    "\n",
    "#ML\n",
    "\n",
    "#Other\n",
    "import pickle\n",
    "\n",
    "#General\n",
    "from sklearn.metrics import confusion_matrix,classification_report\n",
    "from sklearn.preprocessing import OneHotEncoder\n",
    "from sklearn.preprocessing import StandardScaler\n",
    "\n",
    "#knn\n",
    "from sklearn.cluster import KMeans"
   ]
  },
  {
   "cell_type": "code",
   "execution_count": 3,
   "metadata": {},
   "outputs": [],
   "source": [
    "#Getting the csv file's name with the wrangled data\n",
    "data_file='wrang_xyz_data.csv'\n",
    "\n",
    "#Splitting the data into different categories that make sense\n",
    "loan_data=['purpose','initial_list_status','term','loan_amnt']\n",
    "emp_data=['emp_length','collections_12_mths_ex_med','acc_now_delinq','home_ownership','annual_inc','verification_status','delinq_2yrs','inq_last_6mths','open_acc','pub_rec','total_acc','earliest_cr_line','dti','tot_cur_bal','tot_coll_amt'] #address\n",
    "\n",
    "#The following inputs are left out as they are only useful for problem 1.\n",
    "#out=['last_pymnt_d','last_credit_pull_d','recoveries','collection_recovery_fee','last_pymnt_amnt','total_pymnt','total_rec_int','int_rate','out_prncp',''total_rec_late_fee','default_ind']\n",
    "\n",
    "#Getting the features that will be included in the model\n",
    "features=loan_data+emp_data"
   ]
  },
  {
   "cell_type": "code",
   "execution_count": 5,
   "metadata": {},
   "outputs": [
    {
     "name": "stdout",
     "output_type": "stream",
     "text": [
      "[[43740 28657 42155 26226   136   999  3747]\n",
      " [79033 35583 75088 42785   924  3141 11442]\n",
      " [71429 34486 70497 43602  1324  3443 12069]\n",
      " [38041 19158 38623 27080   855  1998  7042]\n",
      " [17207 12056 17285 14990   477  1009  3422]\n",
      " [ 5241  4163  5402  4926   160   298  1138]\n",
      " [ 1082  1002  1185  1184    52    74   294]]\n",
      "              precision    recall  f1-score   support\n",
      "\n",
      "           0       0.17      0.30      0.22    145660\n",
      "           1       0.26      0.14      0.19    247996\n",
      "           2       0.28      0.30      0.29    236850\n",
      "           3       0.17      0.20      0.18    132797\n",
      "           4       0.12      0.01      0.01     66446\n",
      "           5       0.03      0.01      0.02     21328\n",
      "           6       0.01      0.06      0.01      4873\n",
      "\n",
      "    accuracy                           0.21    855950\n",
      "   macro avg       0.15      0.15      0.13    855950\n",
      "weighted avg       0.22      0.21      0.20    855950\n",
      "\n"
     ]
    }
   ],
   "source": [
    "#Clustering unsupervised model predicting loan grade for problem 2\n",
    "#The model's inputs are the data_file which should be set equal to the wrangled data file and the value to be predicted \n",
    "#(pred_value) which in this case is the 'grade'. It could also be the 'sub_grade'\n",
    "\n",
    "def get_model_unsup(data_file='wrang_xyz_data.csv',pred_value=['grade']):\n",
    "    #Imporitng the wrangled csv file and including the useful columns for it\n",
    "  \n",
    "    df = pd.read_csv('data/'+data_file,usecols=features+pred_value) #int_rate\n",
    "\n",
    "    X=df.drop('grade',axis=1)\n",
    "\n",
    "    X_scale=X.drop(['purpose','verification_status','home_ownership','initial_list_status','term'],axis=1)\n",
    "    X_non_scale=X[['purpose','verification_status','home_ownership','initial_list_status','term']]\n",
    "\n",
    "    #Scaling the data\n",
    "    scaler = StandardScaler()\n",
    "    scaler.fit(X_scale)\n",
    "    #pickle.dump(scaler,open('scaler_unsup','wb'))\n",
    "    X_scale = pd.DataFrame(scaler.transform(X_scale),index=X.index,columns=X_scale.columns)\n",
    "    X=X_scale.join(X_non_scale)\n",
    "\n",
    "    #One-hot Encoding\n",
    "    ohe_cols=['purpose','verification_status','home_ownership','initial_list_status','term'] #address\n",
    "    ohe = OneHotEncoder(handle_unknown='ignore')\n",
    "    ohe.fit(df[ohe_cols])\n",
    "    #pickle.dump(ohe,open('ohe_unsup','wb'))\n",
    "    X_enc = pd.DataFrame(ohe.transform(X[ohe_cols]).toarray(),index=X.index)\n",
    "    X=X.join(X_enc).drop(ohe_cols,axis=1)\n",
    "    X.columns = X.columns.map(str)\n",
    "\n",
    "    #Using the K-Means-Square algorith for clustering\n",
    "    model_unsup = KMeans(n_clusters=7)\n",
    "    model_unsup.fit(X)\n",
    "\n",
    "    #Creating a function assigning a grade to a label\n",
    "    def converter(cluster):\n",
    "        clust={'A':0,'B':1,'C':2,'D':3,'E':4,'F':5,'G':6}\n",
    "        return clust[cluster]\n",
    "        \n",
    "    df['Cluster'] = df['grade'].apply(converter)\n",
    "\n",
    "    #Printing useful metrics\n",
    "    print(confusion_matrix(df['Cluster'],model_unsup.labels_))\n",
    "    print(classification_report(df['Cluster'],model_unsup.labels_))\n",
    "\n",
    "    return model_unsup\n",
    "#Running the function \n",
    "model_unsup=get_model_unsup(pred_value=['grade'])\n",
    "#pickle.dump(model_unsup,open('model_unsup','wb'))"
   ]
  },
  {
   "cell_type": "code",
   "execution_count": null,
   "metadata": {},
   "outputs": [],
   "source": []
  }
 ],
 "metadata": {
  "interpreter": {
   "hash": "eab5d6664e134b349907fda3eca9fdee262c7deddd92e01a921384ce983d2a6f"
  },
  "kernelspec": {
   "display_name": "Python 3.9.12 ('xyz_corp_venv': venv)",
   "language": "python",
   "name": "python3"
  },
  "language_info": {
   "codemirror_mode": {
    "name": "ipython",
    "version": 3
   },
   "file_extension": ".py",
   "mimetype": "text/x-python",
   "name": "python",
   "nbconvert_exporter": "python",
   "pygments_lexer": "ipython3",
   "version": "3.9.12"
  },
  "orig_nbformat": 4
 },
 "nbformat": 4,
 "nbformat_minor": 2
}
