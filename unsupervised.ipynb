{
 "cells": [
  {
   "cell_type": "markdown",
   "metadata": {},
   "source": [
    "# Unsupervised Clustering Model\n",
    "A notebook that predicts loan grade for Problem 2 using unsupervised learning and K-means square"
   ]
  },
  {
   "cell_type": "code",
   "execution_count": 9,
   "metadata": {},
   "outputs": [],
   "source": [
    "#Imports\n",
    "\n",
    "#Data\n",
    "import pandas as pd\n",
    "\n",
    "#ML\n",
    "\n",
    "#General\n",
    "from sklearn.metrics import confusion_matrix,classification_report\n",
    "from sklearn.preprocessing import OneHotEncoder\n",
    "from sklearn.preprocessing import StandardScaler\n",
    "\n",
    "#knn\n",
    "from sklearn.cluster import KMeans"
   ]
  },
  {
   "cell_type": "code",
   "execution_count": 10,
   "metadata": {},
   "outputs": [],
   "source": [
    "#Getting the csv file's name with the wrangled data\n",
    "data_file='wrang_xyz_data.csv'\n",
    "\n",
    "#Splitting the data into different categories that make sense\n",
    "loan_data=['purpose','initial_list_status','term','loan_amnt']\n",
    "emp_data=['emp_length','collections_12_mths_ex_med','acc_now_delinq','home_ownership','annual_inc','verification_status','delinq_2yrs','inq_last_6mths','open_acc','pub_rec','total_acc','earliest_cr_line','dti','tot_cur_bal','tot_coll_amt'] #address\n",
    "\n",
    "#The following inputs are left out as they are only useful for problem 1.\n",
    "#out=['last_pymnt_d','last_credit_pull_d','recoveries','collection_recovery_fee','last_pymnt_amnt','total_pymnt','total_rec_int','int_rate','out_prncp',''total_rec_late_fee','default_ind']\n",
    "\n",
    "#Getting the features that will be included in the model\n",
    "features=loan_data+emp_data"
   ]
  },
  {
   "cell_type": "code",
   "execution_count": 13,
   "metadata": {},
   "outputs": [
    {
     "name": "stdout",
     "output_type": "stream",
     "text": [
      "[[43038 24954 41068   136   999 26849  8616]\n",
      " [68938 40821 71586   924  3139 33573 29015]\n",
      " [61216 41689 66646  1324  3445 32244 30286]\n",
      " [33273 25755 36678   855  2000 17737 16499]\n",
      " [15803 14228 16349   477  1011 11091  7487]\n",
      " [ 4906  4729  5156   160   297  3790  2290]\n",
      " [ 1017  1164  1121    52    74   959   486]]\n",
      "              precision    recall  f1-score   support\n",
      "\n",
      "           0       0.19      0.30      0.23    145660\n",
      "           1       0.27      0.16      0.20    247996\n",
      "           2       0.28      0.28      0.28    236850\n",
      "           3       0.22      0.01      0.01    132797\n",
      "           4       0.09      0.02      0.03     66446\n",
      "           5       0.03      0.18      0.05     21328\n",
      "           6       0.01      0.10      0.01      4873\n",
      "\n",
      "    accuracy                           0.18    855950\n",
      "   macro avg       0.15      0.15      0.12    855950\n",
      "weighted avg       0.23      0.18      0.18    855950\n",
      "\n"
     ]
    }
   ],
   "source": [
    "#Clustering unsupervised model predicting loan grade for problem 2\n",
    "#The model's inputs are the data_file which should be set equal to the wrangled data file and the value to be predicted \n",
    "#(pred_value) which in this case is the 'grade'. It could also be the 'sub_grade'\n",
    "\n",
    "def get_model_unsup(data_file='wrang_xyz_data.csv',pred_value=['grade']):\n",
    "    #Imporitng the wrangled csv file and including the useful columns for it\n",
    "  \n",
    "    df = pd.read_csv('data/'+data_file,usecols=features+pred_value) #int_rate\n",
    "\n",
    "    X=df.drop('grade',axis=1)\n",
    "\n",
    "    X_scale=X.drop(['purpose','verification_status','home_ownership','initial_list_status','term'],axis=1)\n",
    "    X_non_scale=X[['purpose','verification_status','home_ownership','initial_list_status','term']]\n",
    "\n",
    "    #Scaling the data\n",
    "    scaler = StandardScaler()\n",
    "    scaler.fit(X_scale)\n",
    "    X_scale = pd.DataFrame(scaler.transform(X_scale),index=X.index,columns=X_scale.columns)\n",
    "    X=X_scale.join(X_non_scale)\n",
    "\n",
    "    #One-hot Encoding\n",
    "    ohe_cols=['purpose','verification_status','home_ownership','initial_list_status','term'] #address\n",
    "    ohe = OneHotEncoder(handle_unknown='ignore')\n",
    "    ohe.fit(df[ohe_cols])\n",
    "    X_enc = pd.DataFrame(ohe.transform(X[ohe_cols]).toarray(),index=X.index)\n",
    "    X=X.join(X_enc).drop(ohe_cols,axis=1)\n",
    "    X.columns = X.columns.map(str)\n",
    "\n",
    "    #Using the K-Means-Square algorith for clustering\n",
    "    model_unsup = KMeans(n_clusters=7)\n",
    "    model_unsup.fit(X)\n",
    "\n",
    "    #Creating a function assigning a grade to a label\n",
    "    def converter(cluster):\n",
    "        clust={'A':0,'B':1,'C':2,'D':3,'E':4,'F':5,'G':6}\n",
    "        return clust[cluster]\n",
    "        \n",
    "    df['Cluster'] = df['grade'].apply(converter)\n",
    "\n",
    "    #Printing useful metrics\n",
    "    print(confusion_matrix(df['Cluster'],model_unsup.labels_))\n",
    "    print(classification_report(df['Cluster'],model_unsup.labels_))\n",
    "\n",
    "    return model_unsup\n",
    "#Running the function \n",
    "model_unsup=get_model_unsup(pred_value=['grade'])"
   ]
  },
  {
   "cell_type": "code",
   "execution_count": null,
   "metadata": {},
   "outputs": [],
   "source": []
  }
 ],
 "metadata": {
  "interpreter": {
   "hash": "eab5d6664e134b349907fda3eca9fdee262c7deddd92e01a921384ce983d2a6f"
  },
  "kernelspec": {
   "display_name": "Python 3.9.12 ('xyz_corp_venv': venv)",
   "language": "python",
   "name": "python3"
  },
  "language_info": {
   "codemirror_mode": {
    "name": "ipython",
    "version": 3
   },
   "file_extension": ".py",
   "mimetype": "text/x-python",
   "name": "python",
   "nbconvert_exporter": "python",
   "pygments_lexer": "ipython3",
   "version": "3.9.12"
  },
  "orig_nbformat": 4
 },
 "nbformat": 4,
 "nbformat_minor": 2
}
