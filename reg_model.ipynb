{
 "cells": [
  {
   "cell_type": "code",
   "execution_count": 13,
   "metadata": {},
   "outputs": [],
   "source": [
    "#Imports\n",
    "\n",
    "#Data\n",
    "import pandas as pd\n",
    "import numpy as np\n",
    "\n",
    "#Visualisation\n",
    "import matplotlib as mpl\n",
    "import matplotlib.pyplot as plt\n",
    "import seaborn as sns\n",
    "\n",
    "#ML\n",
    "from imblearn.under_sampling import RandomUnderSampler\n",
    "\n",
    "from sklearn.model_selection import train_test_split\n",
    "from sklearn.preprocessing import StandardScaler, MinMaxScaler\n",
    "\n",
    "\n",
    "from sklearn.metrics import mean_squared_error, mean_absolute_error\n",
    "\n",
    "from sklearn.linear_model import LinearRegression\n",
    "import xgboost as xgb\n",
    "from sklearn.ensemble import RandomForestRegressor\n",
    "from sklearn.neighbors import KNeighborsRegressor\n",
    "import tensorflow as tf\n",
    "from sklearn.neural_network import MLPRegressor\n",
    "from sklearn import datasets\n",
    "from sklearn.datasets import make_regression\n",
    "from sklearn.metrics import confusion_matrix,classification_report\n",
    "\n",
    "from sklearn.preprocessing import OneHotEncoder\n",
    "\n",
    "#-------------------------------------------------------------------\n",
    "\n",
    "data_file='wrang_xyz_data.csv'\n",
    "\n",
    "financial_data=['total_rev_hi_lim','tot_cur_bal','tot_coll_amt','revol_util','loan_amnt','dti','revol_bal']\n",
    "loan_data=['purpose','initial_list_status','term']\n",
    "emp_data=['emp_length','collections_12_mths_ex_med','acc_now_delinq','home_ownership','annual_inc','verification_status','zip_code','addr_state','delinq_2yrs','inq_last_6mths','open_acc','pub_rec','total_acc']\n",
    "date_data=['earliest_cr_line']\n",
    "pred_data=['issue_d','default_ind','recoveries','collection_recovery_fee']\n",
    "inn=['initial_list_status','last_pymnt_amnt','total_pymnt','total_rec_int','total_rec_late_fee']\n",
    "out=['initial_list_status','last_credit_pull_d','out_prncp','last_pymnt_amnt','total_pymnt','total_rec_int','total_rec_late_fee']\n",
    "features=financial_data+loan_data+emp_data+date_data+inn+out"
   ]
  },
  {
   "cell_type": "code",
   "execution_count": 14,
   "metadata": {},
   "outputs": [
    {
     "name": "stderr",
     "output_type": "stream",
     "text": [
      "C:\\Users\\mmoy\\AppData\\Local\\Packages\\PythonSoftwareFoundation.Python.3.9_qbz5n2kfra8p0\\LocalCache\\local-packages\\Python39\\site-packages\\xgboost\\data.py:262: FutureWarning: pandas.Int64Index is deprecated and will be removed from pandas in a future version. Use pandas.Index with the appropriate dtype instead.\n",
      "  elif isinstance(data.columns, (pd.Int64Index, pd.RangeIndex)):\n"
     ]
    },
    {
     "name": "stdout",
     "output_type": "stream",
     "text": [
      "32.84670458467195\n"
     ]
    }
   ],
   "source": [
    "def get_model_class(data_file='wrang_xyz_data.csv',split='date',model_type='xgb',pred_value=['recoveries']):\n",
    "\n",
    "    df = pd.read_csv('data/'+data_file,usecols=features+['issue_d','default_ind']+pred_value)\n",
    "    df=df[df['default_ind']==1].drop('default_ind',axis=1)\n",
    "    if split=='random':\n",
    "        X=df.drop([pred_value[0],'issue_d'],axis=1)\n",
    "        y=df[pred_value[0]]\n",
    "\n",
    "        X_train, X_test, y_train, y_test = train_test_split(X, y, train_size=0.75, test_size=0.25)\n",
    "\n",
    "    else:\n",
    "        X=df.drop(pred_value[0],axis=1)\n",
    "        y=df[[pred_value[0],'issue_d']]\n",
    "\n",
    "        X_train=X[X['issue_d']<=20150501].drop('issue_d',axis=1)\n",
    "        X_test=X[X['issue_d']>20150501].drop('issue_d',axis=1)\n",
    "\n",
    "        y_train=y[y['issue_d']<=20150501][pred_value[0]]\n",
    "        y_test=y[y['issue_d']>20150501][pred_value[0]]\n",
    "\n",
    "    if model_type=='xgb':\n",
    "        model_reg = xgb.XGBRegressor()\n",
    "        model_reg.fit(X_train,np.ravel(y_train))\n",
    "\n",
    "    elif model_type=='lin_reg':\n",
    "        model_reg=LinearRegression()\n",
    "        model_reg.fit(X_train,np.ravel(y_train))\n",
    "\n",
    "    else: \n",
    "        model_reg = RandomForestRegressor()\n",
    "        model_reg.fit(X_train,np.ravel(y_train))\n",
    "\n",
    "    y_reg_pred = model_reg.predict(X_test)\n",
    "    error = np.mean(abs(y_test - y_reg_pred)/y_reg_pred)*100\n",
    "    print(error)\n",
    "    return model_reg\n",
    "    \n",
    "model_reg=get_model_class(split='date',model_type='xgb',pred_value=['recoveries'])"
   ]
  },
  {
   "cell_type": "code",
   "execution_count": null,
   "metadata": {},
   "outputs": [],
   "source": []
  }
 ],
 "metadata": {
  "interpreter": {
   "hash": "e7d9ec2020d2e3092f227ed7e61b65638542f0e636f9a1d34fd190ee473e245c"
  },
  "kernelspec": {
   "display_name": "Python 3.9.12 ('xyz_corp_venv': venv)",
   "language": "python",
   "name": "python3"
  },
  "language_info": {
   "codemirror_mode": {
    "name": "ipython",
    "version": 3
   },
   "file_extension": ".py",
   "mimetype": "text/x-python",
   "name": "python",
   "nbconvert_exporter": "python",
   "pygments_lexer": "ipython3",
   "version": "3.9.12"
  },
  "orig_nbformat": 4
 },
 "nbformat": 4,
 "nbformat_minor": 2
}
