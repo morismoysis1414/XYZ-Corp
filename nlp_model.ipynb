{
 "cells": [
  {
   "cell_type": "markdown",
   "metadata": {},
   "source": [
    "# Natural Language Processing (NLP) Model\n",
    "Predicts loan purspose based on loan description given by the borrower"
   ]
  },
  {
   "cell_type": "code",
   "execution_count": 13,
   "metadata": {},
   "outputs": [],
   "source": [
    "#Imports\n",
    "\n",
    "#Data\n",
    "import pandas as pd\n",
    "import numpy as np\n",
    "\n",
    "\n",
    "#Visualisation\n",
    "import matplotlib as mpl\n",
    "import matplotlib.pyplot as plt\n",
    "import seaborn as sns\n",
    "\n",
    "#Text\n",
    "import string\n",
    "from nltk.corpus import stopwords\n",
    "\n",
    "#ML\n",
    "\n",
    "#General\n",
    "from sklearn.pipeline import Pipeline\n",
    "from sklearn.model_selection import train_test_split\n",
    "from sklearn.metrics import confusion_matrix,classification_report\n",
    "\n",
    "#NLP - Related\n",
    "from sklearn.feature_extraction.text import CountVectorizer\n",
    "from sklearn.feature_extraction.text import  TfidfTransformer\n",
    "from sklearn.naive_bayes import MultinomialNB"
   ]
  },
  {
   "cell_type": "code",
   "execution_count": 14,
   "metadata": {},
   "outputs": [
    {
     "name": "stderr",
     "output_type": "stream",
     "text": [
      "C:\\Users\\mmoy\\AppData\\Local\\Temp\\ipykernel_11940\\854792273.py:2: DtypeWarning: Columns (17,45,53) have mixed types. Specify dtype option on import or set low_memory=False.\n",
      "  df=pd.read_csv('data/xyz_corp_lending_data.csv',sep='\\t')\n"
     ]
    }
   ],
   "source": [
    "#Getting the csv file's name with the wrangled data\n",
    "df=pd.read_csv('data/xyz_corp_lending_data.csv',sep='\\t')\n",
    "\n",
    "#Including only the non-na data for desc and getting only the desc and purpose columns\n",
    "df=df[df['desc'].isna()==False][['desc','purpose']]\n",
    "\n",
    "#Encoding the purpose values\n",
    "df[['purpose']] = df[['purpose']].astype('category').apply(lambda x: x.cat.codes)\n",
    "\n",
    "#Using only the 2 highest purpose values\n",
    "#df=df[(df['purpose']==2)|(df['purpose']==1)]\n",
    "#df['purpose']=df['purpose'].replace(2,0)\n",
    "\n",
    "#Improving the desc values. Commented as did not make any difference\n",
    "#df['desc']=df['desc'].apply(lambda x: x.split('>')[1][:-4] if x[-4:]=='<br>' else x)"
   ]
  },
  {
   "cell_type": "code",
   "execution_count": 11,
   "metadata": {},
   "outputs": [],
   "source": [
    "#A function that takes in a string of text, then remove all punctuation, removes all stopwords, returns a list of the cleaned text\n",
    "def text_process(mess):\n",
    "\n",
    "    # Check characters to see if they are in punctuation\n",
    "    nopunc = [char for char in mess if char not in string.punctuation]\n",
    "\n",
    "    # Join the characters again to form the string.\n",
    "    nopunc = ''.join(nopunc)\n",
    "    \n",
    "    # Now just remove any stopwords (very common words)\n",
    "    return [word for word in nopunc.split() if word.lower() not in stopwords.words('english')]"
   ]
  },
  {
   "cell_type": "code",
   "execution_count": 19,
   "metadata": {},
   "outputs": [
    {
     "name": "stdout",
     "output_type": "stream",
     "text": [
      "              precision    recall  f1-score   support\n",
      "\n",
      "           0       0.67      0.23      0.34       545\n",
      "           1       0.52      0.33      0.40      7684\n",
      "           2       0.69      0.86      0.77     20996\n",
      "           3       1.00      0.01      0.03        74\n",
      "           4       0.70      0.79      0.74      2202\n",
      "           5       0.00      0.00      0.00       239\n",
      "           6       0.53      0.18      0.27       921\n",
      "           7       1.00      0.02      0.04       317\n",
      "           8       0.83      0.02      0.04       252\n",
      "           9       0.23      0.21      0.22      1989\n",
      "          10       0.00      0.00      0.00        35\n",
      "          11       0.68      0.66      0.67       772\n",
      "          12       1.00      0.01      0.01       166\n",
      "          13       0.79      0.18      0.29       352\n",
      "\n",
      "    accuracy                           0.65     36544\n",
      "   macro avg       0.62      0.25      0.27     36544\n",
      "weighted avg       0.63      0.65      0.61     36544\n",
      "\n"
     ]
    },
    {
     "name": "stderr",
     "output_type": "stream",
     "text": [
      "c:\\Users\\mmoy\\Documents\\XYZ Corp\\xyz_corp_venv\\lib\\site-packages\\sklearn\\metrics\\_classification.py:1318: UndefinedMetricWarning: Precision and F-score are ill-defined and being set to 0.0 in labels with no predicted samples. Use `zero_division` parameter to control this behavior.\n",
      "  _warn_prf(average, modifier, msg_start, len(result))\n",
      "c:\\Users\\mmoy\\Documents\\XYZ Corp\\xyz_corp_venv\\lib\\site-packages\\sklearn\\metrics\\_classification.py:1318: UndefinedMetricWarning: Precision and F-score are ill-defined and being set to 0.0 in labels with no predicted samples. Use `zero_division` parameter to control this behavior.\n",
      "  _warn_prf(average, modifier, msg_start, len(result))\n",
      "c:\\Users\\mmoy\\Documents\\XYZ Corp\\xyz_corp_venv\\lib\\site-packages\\sklearn\\metrics\\_classification.py:1318: UndefinedMetricWarning: Precision and F-score are ill-defined and being set to 0.0 in labels with no predicted samples. Use `zero_division` parameter to control this behavior.\n",
      "  _warn_prf(average, modifier, msg_start, len(result))\n"
     ]
    }
   ],
   "source": [
    "#NLP model predicting loan purpose based on loan description given by the borrower.\n",
    "#The model's input is the method used for NLP. If set to initial it just uses count_vectorizer\n",
    "#if set to anything else it also uses a TfidfTransformer. It is observed that the model runs better\n",
    "#with the 'initial' input.\n",
    "\n",
    "def get_model_nlp(method='initial'):\n",
    "\n",
    "\n",
    "    #Using the text processing function\n",
    "    df['desc']=df['desc'].apply(text_process)\n",
    "\n",
    "    #Creating X and y variables for input and output\n",
    "    X=df['desc']\n",
    "    y=df['purpose']\n",
    "\n",
    "    if method=='initial':\n",
    "        #Vectorizing the data\n",
    "        cv = CountVectorizer()\n",
    "        X = cv.fit_transform(X)\n",
    "\n",
    "        #Splitting the data into train and test\n",
    "        X_train, X_test, y_train, y_test = train_test_split(X, y,test_size=0.3)\n",
    "\n",
    "        #Using the Naive-Base Binomial algorith for prediction\n",
    "        model_nlp = MultinomialNB()\n",
    "        model_nlp.fit(X_train,y_train)\n",
    "        predictions = model_nlp.predict(X_test)\n",
    "    else:\n",
    "        #Using a Pipeline including a TfidfTransformer\n",
    "        model_nlp = Pipeline([\n",
    "        ('bow', CountVectorizer(analyzer=text_process)),\n",
    "        ('tfidf', TfidfTransformer()),\n",
    "        ('classifier', MultinomialNB()),]) \n",
    "\n",
    "        #Splitting the data into train and test\n",
    "        X_train, X_test, y_train, y_test = train_test_split(X, y,test_size=0.3)\n",
    "\n",
    "        #Using the Naive-Base Binomial algorith for prediction\n",
    "        model_nlp.fit(X_train,y_train)\n",
    "        predictions = model_nlp.predict(X_test) \n",
    "    \n",
    "    #Printing useful metrics\n",
    "    #print(confusion_matrix(y_test,predictions))\n",
    "    print(classification_report(y_test,predictions))\n",
    "    return model_nlp\n",
    "\n",
    "#Running the function \n",
    "model_nlp=get_model_nlp(method='initial')"
   ]
  }
 ],
 "metadata": {
  "interpreter": {
   "hash": "e7d9ec2020d2e3092f227ed7e61b65638542f0e636f9a1d34fd190ee473e245c"
  },
  "kernelspec": {
   "display_name": "Python 3.9.12 ('xyz_corp_venv': venv)",
   "language": "python",
   "name": "python3"
  },
  "language_info": {
   "codemirror_mode": {
    "name": "ipython",
    "version": 3
   },
   "file_extension": ".py",
   "mimetype": "text/x-python",
   "name": "python",
   "nbconvert_exporter": "python",
   "pygments_lexer": "ipython3",
   "version": "3.9.12"
  },
  "orig_nbformat": 4
 },
 "nbformat": 4,
 "nbformat_minor": 2
}
