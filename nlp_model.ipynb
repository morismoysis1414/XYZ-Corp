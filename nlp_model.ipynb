{
 "cells": [
  {
   "cell_type": "code",
   "execution_count": 19,
   "metadata": {},
   "outputs": [
    {
     "name": "stderr",
     "output_type": "stream",
     "text": [
      "C:\\Users\\mmoy\\AppData\\Local\\Temp\\ipykernel_10000\\3484154897.py:27: DtypeWarning: Columns (17,45,53) have mixed types. Specify dtype option on import or set low_memory=False.\n",
      "  df=pd.read_csv('data/xyz_corp_lending_data.csv',sep='\\t')\n"
     ]
    }
   ],
   "source": [
    "#Imports\n",
    "\n",
    "#Data\n",
    "import pandas as pd\n",
    "import numpy as np\n",
    "\n",
    "\n",
    "#Visualisation\n",
    "import matplotlib as mpl\n",
    "import matplotlib.pyplot as plt\n",
    "import seaborn as sns\n",
    "\n",
    "#ML\n",
    "from sklearn.model_selection import train_test_split\n",
    "from sklearn.preprocessing import StandardScaler, MinMaxScaler\n",
    "\n",
    "from sklearn.feature_extraction.text import CountVectorizer\n",
    "from sklearn.naive_bayes import MultinomialNB\n",
    "from sklearn.feature_extraction.text import  TfidfTransformer\n",
    "from sklearn.pipeline import Pipeline\n",
    "\n",
    "from sklearn.datasets import make_regression\n",
    "from sklearn.metrics import confusion_matrix,classification_report\n",
    "\n",
    "from sklearn.preprocessing import OneHotEncoder\n",
    "\n",
    "df=pd.read_csv('data/xyz_corp_lending_data.csv',sep='\\t')\n",
    "df=df[df['desc'].isna()==False][['desc','purpose']]\n",
    "df[['purpose']] = df[['purpose']].astype('category').apply(lambda x: x.cat.codes)\n",
    "df=df[(df['purpose']==2)|(df['purpose']==1)]\n",
    "df['purpose']=df['purpose'].replace(2,0)\n"
   ]
  },
  {
   "cell_type": "code",
   "execution_count": 26,
   "metadata": {},
   "outputs": [
    {
     "name": "stdout",
     "output_type": "stream",
     "text": [
      "[[18114  2688]\n",
      " [ 4898  2870]]\n",
      "\n",
      "\n",
      "              precision    recall  f1-score   support\n",
      "\n",
      "           0       0.79      0.87      0.83     20802\n",
      "           1       0.52      0.37      0.43      7768\n",
      "\n",
      "    accuracy                           0.73     28570\n",
      "   macro avg       0.65      0.62      0.63     28570\n",
      "weighted avg       0.71      0.73      0.72     28570\n",
      "\n"
     ]
    }
   ],
   "source": [
    "def get_model_nlp(method='initial'):\n",
    "    X=df['desc']\n",
    "    y=df['purpose']\n",
    "    if method=='initial':\n",
    "        cv = CountVectorizer()\n",
    "        X = cv.fit_transform(X)\n",
    "        X_train, X_test, y_train, y_test = train_test_split(X, y,test_size=0.3)\n",
    "        model_nlp = MultinomialNB()\n",
    "        nb.fit(X_train,y_train)\n",
    "        predictions = nb.predict(X_test)\n",
    "    else:\n",
    "        model_nlp = Pipeline([\n",
    "        ('bow', CountVectorizer()),\n",
    "        ('tfidf', TfidfTransformer()),\n",
    "        ('classifier', MultinomialNB()),]) \n",
    "        X_train, X_test, y_train, y_test = train_test_split(X, y,test_size=0.3)\n",
    "        pipeline.fit(X_train,y_train)\n",
    "        predictions = pipeline.predict(X_test) \n",
    "    print(confusion_matrix(y_test,predictions))\n",
    "    print('\\n')\n",
    "    print(classification_report(y_test,predictions))\n",
    "    return model_nlp\n",
    "model_nlp=get_model_nlp(method='initial')\n"
   ]
  }
 ],
 "metadata": {
  "interpreter": {
   "hash": "e7d9ec2020d2e3092f227ed7e61b65638542f0e636f9a1d34fd190ee473e245c"
  },
  "kernelspec": {
   "display_name": "Python 3.9.12 ('xyz_corp_venv': venv)",
   "language": "python",
   "name": "python3"
  },
  "language_info": {
   "codemirror_mode": {
    "name": "ipython",
    "version": 3
   },
   "file_extension": ".py",
   "mimetype": "text/x-python",
   "name": "python",
   "nbconvert_exporter": "python",
   "pygments_lexer": "ipython3",
   "version": "3.9.12"
  },
  "orig_nbformat": 4
 },
 "nbformat": 4,
 "nbformat_minor": 2
}
