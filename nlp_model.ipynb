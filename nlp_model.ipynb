{
 "cells": [
  {
   "cell_type": "markdown",
   "metadata": {},
   "source": [
    "# Natural Language Processing (NLP) Model\n",
    "A notebook that predicts loan purspose based on loan description given by the borrower"
   ]
  },
  {
   "cell_type": "code",
   "execution_count": 11,
   "metadata": {},
   "outputs": [],
   "source": [
    "#Imports\n",
    "\n",
    "#Data\n",
    "import pandas as pd\n",
    "import numpy as np\n",
    "\n",
    "\n",
    "#Visualisation\n",
    "import matplotlib as mpl\n",
    "import matplotlib.pyplot as plt\n",
    "import seaborn as sns\n",
    "\n",
    "#Text\n",
    "import string\n",
    "from nltk.corpus import stopwords\n",
    "\n",
    "#ML\n",
    "\n",
    "#Other\n",
    "import pickle\n",
    "\n",
    "#General\n",
    "from sklearn.pipeline import Pipeline\n",
    "from sklearn.model_selection import train_test_split\n",
    "from sklearn.metrics import confusion_matrix,classification_report\n",
    "\n",
    "#NLP - Related\n",
    "from sklearn.feature_extraction.text import CountVectorizer\n",
    "from sklearn.feature_extraction.text import  TfidfTransformer\n",
    "from sklearn.naive_bayes import MultinomialNB"
   ]
  },
  {
   "cell_type": "code",
   "execution_count": 6,
   "metadata": {},
   "outputs": [
    {
     "name": "stderr",
     "output_type": "stream",
     "text": [
      "C:\\Users\\mmoy\\AppData\\Local\\Temp\\ipykernel_1180\\2564360736.py:2: DtypeWarning: Columns (17,45,53) have mixed types. Specify dtype option on import or set low_memory=False.\n",
      "  df=pd.read_csv('data/xyz_corp_lending_data.csv',sep='\\t')\n"
     ]
    }
   ],
   "source": [
    "#Getting the csv file's name with the wrangled data\n",
    "df=pd.read_csv('data/xyz_corp_lending_data.csv',sep='\\t')\n",
    "\n",
    "#Including only the non-na data for desc and getting only the desc and purpose columns\n",
    "df=df[df['desc'].isna()==False][['desc','purpose']]\n",
    "\n",
    "#Encoding the purpose values\n",
    "#df[['purpose']] = df[['purpose']].astype('category').apply(lambda x: x.cat.codes)\n",
    "\n",
    "#Using only the 2 highest purpose values\n",
    "#df=df[(df['purpose']==2)|(df['purpose']==1)]\n",
    "#df['purpose']=df['purpose'].replace(2,0)\n",
    "\n",
    "#Improving the desc values. Commented as did not make any difference\n",
    "#df['desc']=df['desc'].apply(lambda x: x.split('>')[1][:-4] if x[-4:]=='<br>' else x)"
   ]
  },
  {
   "cell_type": "code",
   "execution_count": 7,
   "metadata": {},
   "outputs": [],
   "source": [
    "#A function that takes in a string of text, then remove all punctuation, removes all stopwords, returns a list of the cleaned text\n",
    "def text_process(mess):\n",
    "\n",
    "    # Check characters to see if they are in punctuation\n",
    "    nopunc = [char for char in mess if char not in string.punctuation]\n",
    "\n",
    "    # Join the characters again to form the string.\n",
    "    nopunc = ''.join(nopunc)\n",
    "    \n",
    "    # Now just remove any stopwords (very common words)\n",
    "    return [word for word in nopunc.split() if word.lower() not in stopwords.words('english')]"
   ]
  },
  {
   "cell_type": "code",
   "execution_count": 13,
   "metadata": {},
   "outputs": [
    {
     "name": "stderr",
     "output_type": "stream",
     "text": [
      "c:\\Users\\mmoy\\Documents\\XYZ Corp\\xyz_corp_venv\\lib\\site-packages\\sklearn\\metrics\\_classification.py:1318: UndefinedMetricWarning: Precision and F-score are ill-defined and being set to 0.0 in labels with no predicted samples. Use `zero_division` parameter to control this behavior.\n",
      "  _warn_prf(average, modifier, msg_start, len(result))\n"
     ]
    },
    {
     "name": "stdout",
     "output_type": "stream",
     "text": [
      "                    precision    recall  f1-score   support\n",
      "\n",
      "               car       0.69      0.19      0.30       588\n",
      "       credit_card       0.52      0.33      0.40      7633\n",
      "debt_consolidation       0.70      0.86      0.77     21097\n",
      "       educational       1.00      0.01      0.02        81\n",
      "  home_improvement       0.68      0.79      0.73      2125\n",
      "             house       0.00      0.00      0.00       264\n",
      "    major_purchase       0.51      0.18      0.26       927\n",
      "           medical       0.70      0.02      0.05       290\n",
      "            moving       0.80      0.02      0.03       263\n",
      "             other       0.23      0.22      0.22      1939\n",
      "  renewable_energy       0.00      0.00      0.00        38\n",
      "    small_business       0.65      0.68      0.67       780\n",
      "          vacation       1.00      0.01      0.01       168\n",
      "           wedding       0.81      0.15      0.26       351\n",
      "\n",
      "          accuracy                           0.65     36544\n",
      "         macro avg       0.59      0.25      0.27     36544\n",
      "      weighted avg       0.63      0.65      0.61     36544\n",
      "\n"
     ]
    },
    {
     "name": "stderr",
     "output_type": "stream",
     "text": [
      "c:\\Users\\mmoy\\Documents\\XYZ Corp\\xyz_corp_venv\\lib\\site-packages\\sklearn\\metrics\\_classification.py:1318: UndefinedMetricWarning: Precision and F-score are ill-defined and being set to 0.0 in labels with no predicted samples. Use `zero_division` parameter to control this behavior.\n",
      "  _warn_prf(average, modifier, msg_start, len(result))\n",
      "c:\\Users\\mmoy\\Documents\\XYZ Corp\\xyz_corp_venv\\lib\\site-packages\\sklearn\\metrics\\_classification.py:1318: UndefinedMetricWarning: Precision and F-score are ill-defined and being set to 0.0 in labels with no predicted samples. Use `zero_division` parameter to control this behavior.\n",
      "  _warn_prf(average, modifier, msg_start, len(result))\n"
     ]
    }
   ],
   "source": [
    "#NLP model predicting loan purpose based on loan description given by the borrower.\n",
    "#The model's input is the method used for NLP. If set to initial it just uses count_vectorizer\n",
    "#if set to anything else it also uses a TfidfTransformer. It is observed that the model runs better\n",
    "#with the 'initial' input.\n",
    "\n",
    "def get_model_nlp(method='initial'):\n",
    "\n",
    "\n",
    "    #Using the text processing function\n",
    "    #df['desc']=df['desc'].apply(text_process)\n",
    "\n",
    "    #Creating X and y variables for input and output\n",
    "    X=df['desc']\n",
    "    y=df['purpose']\n",
    "\n",
    "    if method=='initial':\n",
    "        #Vectorizing the data\n",
    "        cv = CountVectorizer()\n",
    "        cv.fit(X)\n",
    "        #pickle.dump(cv,open('vector_nlp','wb'))\n",
    "        X=cv.trasform(X)\n",
    "\n",
    "        #Splitting the data into train and test\n",
    "        X_train, X_test, y_train, y_test = train_test_split(X, y,test_size=0.3)\n",
    "\n",
    "        #Using the Naive-Base Binomial algorith for prediction\n",
    "        model_nlp = MultinomialNB()\n",
    "        model_nlp.fit(X_train,y_train)\n",
    "        predictions = model_nlp.predict(X_test)\n",
    "    else:\n",
    "        #Using a Pipeline including a TfidfTransformer\n",
    "        model_nlp = Pipeline([\n",
    "        ('bow', CountVectorizer(analyzer=text_process)),\n",
    "        ('tfidf', TfidfTransformer()),\n",
    "        ('classifier', MultinomialNB()),]) \n",
    "\n",
    "        #Splitting the data into train and test\n",
    "        X_train, X_test, y_train, y_test = train_test_split(X, y,test_size=0.3)\n",
    "\n",
    "        #Using the Naive-Base Binomial algorith for prediction\n",
    "        model_nlp.fit(X_train,y_train)\n",
    "        predictions = model_nlp.predict(X_test) \n",
    "    \n",
    "    #Printing useful metrics\n",
    "    #print(confusion_matrix(y_test,predictions))\n",
    "    print(classification_report(y_test,predictions))\n",
    "    return model_nlp\n",
    "\n",
    "#Running the function \n",
    "model_nlp=get_model_nlp(method='initial')\n",
    "#pickle.dump(model_nlp,open('model_nlp','wb'))"
   ]
  },
  {
   "cell_type": "code",
   "execution_count": null,
   "metadata": {},
   "outputs": [],
   "source": []
  }
 ],
 "metadata": {
  "interpreter": {
   "hash": "eab5d6664e134b349907fda3eca9fdee262c7deddd92e01a921384ce983d2a6f"
  },
  "kernelspec": {
   "display_name": "Python 3.9.12 ('xyz_corp_venv': venv)",
   "language": "python",
   "name": "python3"
  },
  "language_info": {
   "codemirror_mode": {
    "name": "ipython",
    "version": 3
   },
   "file_extension": ".py",
   "mimetype": "text/x-python",
   "name": "python",
   "nbconvert_exporter": "python",
   "pygments_lexer": "ipython3",
   "version": "3.9.12"
  },
  "orig_nbformat": 4
 },
 "nbformat": 4,
 "nbformat_minor": 2
}
