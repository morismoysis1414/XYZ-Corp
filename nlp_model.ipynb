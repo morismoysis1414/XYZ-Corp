{
 "cells": [
  {
   "cell_type": "code",
   "execution_count": 1,
   "metadata": {},
   "outputs": [
    {
     "name": "stderr",
     "output_type": "stream",
     "text": [
      "C:\\Users\\mmoy\\AppData\\Local\\Temp\\ipykernel_12624\\2641627683.py:27: DtypeWarning: Columns (17,45,53) have mixed types. Specify dtype option on import or set low_memory=False.\n",
      "  df=pd.read_csv('data/xyz_corp_lending_data.csv',sep='\\t')\n"
     ]
    }
   ],
   "source": [
    "#Imports\n",
    "\n",
    "#Data\n",
    "import pandas as pd\n",
    "import numpy as np\n",
    "\n",
    "\n",
    "#Visualisation\n",
    "import matplotlib as mpl\n",
    "import matplotlib.pyplot as plt\n",
    "import seaborn as sns\n",
    "\n",
    "#ML\n",
    "from sklearn.model_selection import train_test_split\n",
    "from sklearn.preprocessing import StandardScaler, MinMaxScaler\n",
    "from imblearn.under_sampling import RandomUnderSampler\n",
    "from sklearn.feature_extraction.text import CountVectorizer\n",
    "from sklearn.naive_bayes import MultinomialNB\n",
    "from sklearn.feature_extraction.text import  TfidfTransformer\n",
    "from sklearn.pipeline import Pipeline\n",
    "\n",
    "from sklearn.datasets import make_regression\n",
    "from sklearn.metrics import confusion_matrix,classification_report\n",
    "\n",
    "from sklearn.preprocessing import OneHotEncoder\n",
    "\n",
    "df=pd.read_csv('data/xyz_corp_lending_data.csv',sep='\\t')\n",
    "df=df[df['desc'].isna()==False][['desc','purpose']]\n",
    "df[['purpose']] = df[['purpose']].astype('category').apply(lambda x: x.cat.codes)\n",
    "#df=df[(df['purpose']==2)|(df['purpose']==1)]\n",
    "#df['purpose']=df['purpose'].replace(2,0)\n",
    "#df['desc']=df['desc'].apply(lambda x: x.split('>')[1][:-4] if x[-4:]=='<br>' else x)\n"
   ]
  },
  {
   "cell_type": "code",
   "execution_count": 6,
   "metadata": {},
   "outputs": [
    {
     "name": "stdout",
     "output_type": "stream",
     "text": [
      "              precision    recall  f1-score   support\n",
      "\n",
      "           0       0.68      0.20      0.30       576\n",
      "           1       0.51      0.34      0.40      7673\n",
      "           2       0.70      0.85      0.77     20962\n",
      "           3       0.00      0.00      0.00        93\n",
      "           4       0.69      0.77      0.73      2224\n",
      "           5       0.00      0.00      0.00       253\n",
      "           6       0.51      0.17      0.26       931\n",
      "           7       0.80      0.03      0.05       282\n",
      "           8       0.54      0.03      0.06       218\n",
      "           9       0.22      0.22      0.22      1927\n",
      "          10       0.00      0.00      0.00        42\n",
      "          11       0.68      0.67      0.67       811\n",
      "          12       0.00      0.00      0.00       151\n",
      "          13       0.86      0.12      0.21       401\n",
      "\n",
      "    accuracy                           0.64     36544\n",
      "   macro avg       0.44      0.24      0.26     36544\n",
      "weighted avg       0.62      0.64      0.61     36544\n",
      "\n"
     ]
    },
    {
     "name": "stderr",
     "output_type": "stream",
     "text": [
      "c:\\Users\\mmoy\\Documents\\XYZ Corp\\xyz_corp_venv\\lib\\site-packages\\sklearn\\metrics\\_classification.py:1318: UndefinedMetricWarning: Precision and F-score are ill-defined and being set to 0.0 in labels with no predicted samples. Use `zero_division` parameter to control this behavior.\n",
      "  _warn_prf(average, modifier, msg_start, len(result))\n",
      "c:\\Users\\mmoy\\Documents\\XYZ Corp\\xyz_corp_venv\\lib\\site-packages\\sklearn\\metrics\\_classification.py:1318: UndefinedMetricWarning: Precision and F-score are ill-defined and being set to 0.0 in labels with no predicted samples. Use `zero_division` parameter to control this behavior.\n",
      "  _warn_prf(average, modifier, msg_start, len(result))\n",
      "c:\\Users\\mmoy\\Documents\\XYZ Corp\\xyz_corp_venv\\lib\\site-packages\\sklearn\\metrics\\_classification.py:1318: UndefinedMetricWarning: Precision and F-score are ill-defined and being set to 0.0 in labels with no predicted samples. Use `zero_division` parameter to control this behavior.\n",
      "  _warn_prf(average, modifier, msg_start, len(result))\n"
     ]
    }
   ],
   "source": [
    "def get_model_nlp(method='initial'):\n",
    "    X=df['desc']\n",
    "    y=df['purpose']\n",
    "    if method=='initial':\n",
    "        cv = CountVectorizer()\n",
    "        X = cv.fit_transform(X)\n",
    "        #undersample = RandomUnderSampler(sampling_strategy='majority')\n",
    "        #X,y = undersample.fit_resample(X, y)\n",
    "        X_train, X_test, y_train, y_test = train_test_split(X, y,test_size=0.3)\n",
    "        model_nlp = MultinomialNB()\n",
    "        model_nlp.fit(X_train,y_train)\n",
    "        predictions = model_nlp.predict(X_test)\n",
    "    else:\n",
    "        model_nlp = Pipeline([\n",
    "        ('bow', CountVectorizer()),\n",
    "        ('tfidf', TfidfTransformer()),\n",
    "        ('classifier', MultinomialNB()),]) \n",
    "        X_train, X_test, y_train, y_test = train_test_split(X, y,test_size=0.3)\n",
    "        model_nlp.fit(X_train,y_train)\n",
    "        predictions = model_nlp.predict(X_test) \n",
    "    #print(confusion_matrix(y_test,predictions))\n",
    "    #print('\\n')\n",
    "    print(classification_report(y_test,predictions))\n",
    "    return model_nlp\n",
    "model_nlp=get_model_nlp(method='initial')\n"
   ]
  },
  {
   "cell_type": "code",
   "execution_count": null,
   "metadata": {},
   "outputs": [],
   "source": []
  }
 ],
 "metadata": {
  "interpreter": {
   "hash": "e7d9ec2020d2e3092f227ed7e61b65638542f0e636f9a1d34fd190ee473e245c"
  },
  "kernelspec": {
   "display_name": "Python 3.9.12 ('xyz_corp_venv': venv)",
   "language": "python",
   "name": "python3"
  },
  "language_info": {
   "codemirror_mode": {
    "name": "ipython",
    "version": 3
   },
   "file_extension": ".py",
   "mimetype": "text/x-python",
   "name": "python",
   "nbconvert_exporter": "python",
   "pygments_lexer": "ipython3",
   "version": "3.9.12"
  },
  "orig_nbformat": 4
 },
 "nbformat": 4,
 "nbformat_minor": 2
}
