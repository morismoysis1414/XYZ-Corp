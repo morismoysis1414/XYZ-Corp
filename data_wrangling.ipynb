{
 "cells": [
  {
   "cell_type": "code",
   "execution_count": 6,
   "metadata": {},
   "outputs": [
    {
     "name": "stderr",
     "output_type": "stream",
     "text": [
      "C:\\Users\\mmoy\\AppData\\Local\\Packages\\PythonSoftwareFoundation.Python.3.9_qbz5n2kfra8p0\\LocalCache\\local-packages\\Python39\\site-packages\\xgboost\\compat.py:36: FutureWarning: pandas.Int64Index is deprecated and will be removed from pandas in a future version. Use pandas.Index with the appropriate dtype instead.\n",
      "  from pandas import MultiIndex, Int64Index\n"
     ]
    }
   ],
   "source": [
    "#Imports\n",
    "\n",
    "#Data\n",
    "import pandas as pd\n",
    "import numpy as np\n",
    "\n",
    "#Date\n",
    "import datetime as dt\n",
    "from datetime import datetime\n",
    "\n",
    "#Visualisation\n",
    "import matplotlib as mpl\n",
    "import matplotlib.pyplot as plt\n",
    "import seaborn as sns\n",
    "\n",
    "#ML\n",
    "from imblearn.under_sampling import RandomUnderSampler\n",
    "\n",
    "from sklearn.model_selection import train_test_split\n",
    "from sklearn.preprocessing import StandardScaler, MinMaxScaler\n",
    "\n",
    "from sklearn.metrics import classification_report,confusion_matrix\n",
    "from sklearn.metrics import mean_squared_error, mean_absolute_error\n",
    "\n",
    "from sklearn.linear_model import LogisticRegression\n",
    "from sklearn.linear_model import LinearRegression\n",
    "import xgboost as xgb\n",
    "from sklearn.ensemble import RandomForestRegressor\n",
    "from sklearn.neighbors import KNeighborsRegressor\n",
    "import tensorflow as tf\n",
    "from sklearn.neural_network import MLPRegressor\n",
    "from sklearn import datasets\n",
    "from sklearn.datasets import make_regression\n",
    "from sklearn.metrics import confusion_matrix,classification_report\n",
    "\n",
    "from sklearn.preprocessing import OneHotEncoder"
   ]
  },
  {
   "cell_type": "code",
   "execution_count": 10,
   "metadata": {},
   "outputs": [
    {
     "name": "stderr",
     "output_type": "stream",
     "text": [
      "C:\\Users\\mmoy\\AppData\\Local\\Temp\\ipykernel_22008\\2300198398.py:5: DtypeWarning: Columns (17,45,53) have mixed types. Specify dtype option on import or set low_memory=False.\n",
      "  df=pd.read_csv(file,sep='\\t')\n",
      "C:\\Users\\mmoy\\AppData\\Local\\Temp\\ipykernel_22008\\2300198398.py:15: FutureWarning: The default value of regex will change from True to False in a future version.\n",
      "  df['emp_length']=df['emp_length'].str.replace('[A-Za-z\\s+<>]+', '').astype('float')\n",
      "C:\\Users\\mmoy\\AppData\\Local\\Temp\\ipykernel_22008\\2300198398.py:16: FutureWarning: The default value of regex will change from True to False in a future version.\n",
      "  df['term']=df['term'].str.replace('[A-Za-z\\s+<>]+', '').astype('float')\n",
      "C:\\Users\\mmoy\\AppData\\Local\\Temp\\ipykernel_22008\\2300198398.py:33: FutureWarning: The default value of regex will change from True to False in a future version.\n",
      "  df['zip_code']=df['zip_code'].str.replace('[A-Za-z\\s+<>]+', '').astype('float')\n"
     ]
    }
   ],
   "source": [
    "#Function that wrangles the data\n",
    "def wrangle_data(file='data/xyz_corp_lending_data.csv'):\n",
    "    \n",
    "    #Read CSV file\n",
    "    df=pd.read_csv(file,sep='\\t')\n",
    "\n",
    "    #Core - Drop columns (to be explained why for each column)\n",
    "    df=df.drop(['policy_code','funded_amnt','funded_amnt_inv','out_prncp_inv','total_pymnt_inv','id','member_id','total_rec_prncp','policy_code','installment','pymnt_plan','application_type','next_pymnt_d','title','emp_title','sub_grade','grade'],axis=1)\n",
    "\n",
    "    #Core - Creating a metric to get % of null values and selecting the columns that have less than 50%\n",
    "    nullity=(df.isnull().sum()/len(df)*100).sort_values(ascending=False)\n",
    "    df=df[nullity[nullity<50].index]\n",
    "\n",
    "    #Core - Removing text from emp_length and term columns and converting to float\n",
    "    df['emp_length']=df['emp_length'].str.replace('[A-Za-z\\s+<>]+', '').astype('float')\n",
    "    df['term']=df['term'].str.replace('[A-Za-z\\s+<>]+', '').astype('float')\n",
    "\n",
    "    #Core - Converting Date Columns to YYYYMMDD format and float\n",
    "    date_cols=['last_pymnt_d','last_credit_pull_d','issue_d','earliest_cr_line']\n",
    "    for col in date_cols:\n",
    "        df[col]=pd.to_datetime(df[col]).dt.strftime('%Y%m%d').astype(float)\n",
    "\n",
    "    #Filling na with median or mode\n",
    "    med=['tot_cur_bal','tot_coll_amt','total_rev_hi_lim','revol_util']\n",
    "    mod=['emp_length','last_pymnt_d','collections_12_mths_ex_med','last_credit_pull_d']\n",
    "    for col in med:\n",
    "        df[col]=df[col].fillna(df[col].median())\n",
    "\n",
    "    for col in mod:\n",
    "        df[col]=df[col].fillna(df[col].mode()[0])\n",
    "\n",
    "    #Cleaning up zip_code to only have numbers and concatenating with addr_state. Maybe remove add_state as zip_code already covers it\n",
    "    df['zip_code']=df['zip_code'].str.replace('[A-Za-z\\s+<>]+', '').astype('float')\n",
    "    #df['address']=df['zip_code']+df['addr_state']\n",
    "\n",
    "    #Encoding categorical values \n",
    "    cat_columns=['purpose','verification_status','home_ownership','initial_list_status','addr_state']\n",
    "    df[cat_columns] = df[cat_columns].astype('category').apply(lambda x: x.cat.codes)\n",
    "\n",
    "    return df\n",
    "wrangle_data().to_csv('data/wrang_xyz_data.csv',index=False)"
   ]
  },
  {
   "cell_type": "code",
   "execution_count": null,
   "metadata": {},
   "outputs": [],
   "source": []
  }
 ],
 "metadata": {
  "interpreter": {
   "hash": "e7d9ec2020d2e3092f227ed7e61b65638542f0e636f9a1d34fd190ee473e245c"
  },
  "kernelspec": {
   "display_name": "Python 3.9.12 ('xyz_corp_venv': venv)",
   "language": "python",
   "name": "python3"
  },
  "language_info": {
   "codemirror_mode": {
    "name": "ipython",
    "version": 3
   },
   "file_extension": ".py",
   "mimetype": "text/x-python",
   "name": "python",
   "nbconvert_exporter": "python",
   "pygments_lexer": "ipython3",
   "version": "3.9.12"
  },
  "orig_nbformat": 4
 },
 "nbformat": 4,
 "nbformat_minor": 2
}
